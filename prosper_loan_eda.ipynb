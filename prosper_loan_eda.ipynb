{
 "cells": [
  {
   "cell_type": "markdown",
   "metadata": {},
   "source": [
    "# Part I - Loans Data Exploration\n",
    "## by Mansi Vermani\n",
    "\n",
    "## Introduction\n",
    " The Prosper loan dataset is a comprehensive collection of 113,937 loans, each with 81 variables providing detailed information about the loans. This dataset offers valuable insights into the lending practices and borrower characteristics. It encompasses a wide range of loan attributes, including loan amount, borrower rate (interest rate), current loan status, borrower income, and many other relevant factors.\n",
    "\n",
    "## Preliminary Wrangling\n"
   ]
  },
  {
   "cell_type": "code",
   "execution_count": 1,
   "metadata": {},
   "outputs": [],
   "source": [
    "# importing all required packages and setting plots to be embedded inline\n",
    "import numpy as np\n",
    "import pandas as pd\n",
    "import matplotlib.pyplot as plt\n",
    "import seaborn as sb\n",
    "from matplotlib import rcParams\n",
    "%matplotlib inline\n",
    "\n",
    "rcParams['figure.figsize'] = 14, 12"
   ]
  },
  {
   "cell_type": "markdown",
   "metadata": {},
   "source": [
    "Loading loans dataset and describing its properties."
   ]
  },
  {
   "cell_type": "code",
   "execution_count": 2,
   "metadata": {},
   "outputs": [
    {
     "data": {
      "text/html": [
       "<div>\n",
       "<style scoped>\n",
       "    .dataframe tbody tr th:only-of-type {\n",
       "        vertical-align: middle;\n",
       "    }\n",
       "\n",
       "    .dataframe tbody tr th {\n",
       "        vertical-align: top;\n",
       "    }\n",
       "\n",
       "    .dataframe thead th {\n",
       "        text-align: right;\n",
       "    }\n",
       "</style>\n",
       "<table border=\"1\" class=\"dataframe\">\n",
       "  <thead>\n",
       "    <tr style=\"text-align: right;\">\n",
       "      <th></th>\n",
       "      <th>ListingKey</th>\n",
       "      <th>ListingNumber</th>\n",
       "      <th>ListingCreationDate</th>\n",
       "      <th>CreditGrade</th>\n",
       "      <th>Term</th>\n",
       "      <th>LoanStatus</th>\n",
       "      <th>ClosedDate</th>\n",
       "      <th>BorrowerAPR</th>\n",
       "      <th>BorrowerRate</th>\n",
       "      <th>LenderYield</th>\n",
       "      <th>EstimatedEffectiveYield</th>\n",
       "      <th>EstimatedLoss</th>\n",
       "      <th>EstimatedReturn</th>\n",
       "      <th>ProsperRating (numeric)</th>\n",
       "      <th>ProsperRating (Alpha)</th>\n",
       "      <th>ProsperScore</th>\n",
       "      <th>ListingCategory (numeric)</th>\n",
       "      <th>BorrowerState</th>\n",
       "      <th>Occupation</th>\n",
       "      <th>EmploymentStatus</th>\n",
       "      <th>EmploymentStatusDuration</th>\n",
       "      <th>IsBorrowerHomeowner</th>\n",
       "      <th>CurrentlyInGroup</th>\n",
       "      <th>GroupKey</th>\n",
       "      <th>DateCreditPulled</th>\n",
       "      <th>CreditScoreRangeLower</th>\n",
       "      <th>CreditScoreRangeUpper</th>\n",
       "      <th>FirstRecordedCreditLine</th>\n",
       "      <th>CurrentCreditLines</th>\n",
       "      <th>OpenCreditLines</th>\n",
       "      <th>TotalCreditLinespast7years</th>\n",
       "      <th>OpenRevolvingAccounts</th>\n",
       "      <th>OpenRevolvingMonthlyPayment</th>\n",
       "      <th>InquiriesLast6Months</th>\n",
       "      <th>TotalInquiries</th>\n",
       "      <th>CurrentDelinquencies</th>\n",
       "      <th>AmountDelinquent</th>\n",
       "      <th>DelinquenciesLast7Years</th>\n",
       "      <th>PublicRecordsLast10Years</th>\n",
       "      <th>PublicRecordsLast12Months</th>\n",
       "      <th>RevolvingCreditBalance</th>\n",
       "      <th>BankcardUtilization</th>\n",
       "      <th>AvailableBankcardCredit</th>\n",
       "      <th>TotalTrades</th>\n",
       "      <th>TradesNeverDelinquent (percentage)</th>\n",
       "      <th>TradesOpenedLast6Months</th>\n",
       "      <th>DebtToIncomeRatio</th>\n",
       "      <th>IncomeRange</th>\n",
       "      <th>IncomeVerifiable</th>\n",
       "      <th>StatedMonthlyIncome</th>\n",
       "      <th>LoanKey</th>\n",
       "      <th>TotalProsperLoans</th>\n",
       "      <th>TotalProsperPaymentsBilled</th>\n",
       "      <th>OnTimeProsperPayments</th>\n",
       "      <th>ProsperPaymentsLessThanOneMonthLate</th>\n",
       "      <th>ProsperPaymentsOneMonthPlusLate</th>\n",
       "      <th>ProsperPrincipalBorrowed</th>\n",
       "      <th>ProsperPrincipalOutstanding</th>\n",
       "      <th>ScorexChangeAtTimeOfListing</th>\n",
       "      <th>LoanCurrentDaysDelinquent</th>\n",
       "      <th>LoanFirstDefaultedCycleNumber</th>\n",
       "      <th>LoanMonthsSinceOrigination</th>\n",
       "      <th>LoanNumber</th>\n",
       "      <th>LoanOriginalAmount</th>\n",
       "      <th>LoanOriginationDate</th>\n",
       "      <th>LoanOriginationQuarter</th>\n",
       "      <th>MemberKey</th>\n",
       "      <th>MonthlyLoanPayment</th>\n",
       "      <th>LP_CustomerPayments</th>\n",
       "      <th>LP_CustomerPrincipalPayments</th>\n",
       "      <th>LP_InterestandFees</th>\n",
       "      <th>LP_ServiceFees</th>\n",
       "      <th>LP_CollectionFees</th>\n",
       "      <th>LP_GrossPrincipalLoss</th>\n",
       "      <th>LP_NetPrincipalLoss</th>\n",
       "      <th>LP_NonPrincipalRecoverypayments</th>\n",
       "      <th>PercentFunded</th>\n",
       "      <th>Recommendations</th>\n",
       "      <th>InvestmentFromFriendsCount</th>\n",
       "      <th>InvestmentFromFriendsAmount</th>\n",
       "      <th>Investors</th>\n",
       "    </tr>\n",
       "  </thead>\n",
       "  <tbody>\n",
       "    <tr>\n",
       "      <th>0</th>\n",
       "      <td>1021339766868145413AB3B</td>\n",
       "      <td>193129</td>\n",
       "      <td>2007-08-26 19:09:29.263000000</td>\n",
       "      <td>C</td>\n",
       "      <td>36</td>\n",
       "      <td>Completed</td>\n",
       "      <td>2009-08-14 00:00:00</td>\n",
       "      <td>0.16516</td>\n",
       "      <td>0.1580</td>\n",
       "      <td>0.1380</td>\n",
       "      <td>NaN</td>\n",
       "      <td>NaN</td>\n",
       "      <td>NaN</td>\n",
       "      <td>NaN</td>\n",
       "      <td>NaN</td>\n",
       "      <td>NaN</td>\n",
       "      <td>0</td>\n",
       "      <td>CO</td>\n",
       "      <td>Other</td>\n",
       "      <td>Self-employed</td>\n",
       "      <td>2.0</td>\n",
       "      <td>True</td>\n",
       "      <td>True</td>\n",
       "      <td>NaN</td>\n",
       "      <td>2007-08-26 18:41:46.780000000</td>\n",
       "      <td>640.0</td>\n",
       "      <td>659.0</td>\n",
       "      <td>2001-10-11 00:00:00</td>\n",
       "      <td>5.0</td>\n",
       "      <td>4.0</td>\n",
       "      <td>12.0</td>\n",
       "      <td>1</td>\n",
       "      <td>24.0</td>\n",
       "      <td>3.0</td>\n",
       "      <td>3.0</td>\n",
       "      <td>2.0</td>\n",
       "      <td>472.0</td>\n",
       "      <td>4.0</td>\n",
       "      <td>0.0</td>\n",
       "      <td>0.0</td>\n",
       "      <td>0.0</td>\n",
       "      <td>0.00</td>\n",
       "      <td>1500.0</td>\n",
       "      <td>11.0</td>\n",
       "      <td>0.81</td>\n",
       "      <td>0.0</td>\n",
       "      <td>0.17</td>\n",
       "      <td>$25,000-49,999</td>\n",
       "      <td>True</td>\n",
       "      <td>3083.333333</td>\n",
       "      <td>E33A3400205839220442E84</td>\n",
       "      <td>NaN</td>\n",
       "      <td>NaN</td>\n",
       "      <td>NaN</td>\n",
       "      <td>NaN</td>\n",
       "      <td>NaN</td>\n",
       "      <td>NaN</td>\n",
       "      <td>NaN</td>\n",
       "      <td>NaN</td>\n",
       "      <td>0</td>\n",
       "      <td>NaN</td>\n",
       "      <td>78</td>\n",
       "      <td>19141</td>\n",
       "      <td>9425</td>\n",
       "      <td>2007-09-12 00:00:00</td>\n",
       "      <td>Q3 2007</td>\n",
       "      <td>1F3E3376408759268057EDA</td>\n",
       "      <td>330.43</td>\n",
       "      <td>11396.14</td>\n",
       "      <td>9425.00</td>\n",
       "      <td>1971.14</td>\n",
       "      <td>-133.18</td>\n",
       "      <td>0.0</td>\n",
       "      <td>0.0</td>\n",
       "      <td>0.0</td>\n",
       "      <td>0.0</td>\n",
       "      <td>1.0</td>\n",
       "      <td>0</td>\n",
       "      <td>0</td>\n",
       "      <td>0.0</td>\n",
       "      <td>258</td>\n",
       "    </tr>\n",
       "    <tr>\n",
       "      <th>1</th>\n",
       "      <td>10273602499503308B223C1</td>\n",
       "      <td>1209647</td>\n",
       "      <td>2014-02-27 08:28:07.900000000</td>\n",
       "      <td>NaN</td>\n",
       "      <td>36</td>\n",
       "      <td>Current</td>\n",
       "      <td>NaN</td>\n",
       "      <td>0.12016</td>\n",
       "      <td>0.0920</td>\n",
       "      <td>0.0820</td>\n",
       "      <td>0.07960</td>\n",
       "      <td>0.0249</td>\n",
       "      <td>0.05470</td>\n",
       "      <td>6.0</td>\n",
       "      <td>A</td>\n",
       "      <td>7.0</td>\n",
       "      <td>2</td>\n",
       "      <td>CO</td>\n",
       "      <td>Professional</td>\n",
       "      <td>Employed</td>\n",
       "      <td>44.0</td>\n",
       "      <td>False</td>\n",
       "      <td>False</td>\n",
       "      <td>NaN</td>\n",
       "      <td>2014-02-27 08:28:14</td>\n",
       "      <td>680.0</td>\n",
       "      <td>699.0</td>\n",
       "      <td>1996-03-18 00:00:00</td>\n",
       "      <td>14.0</td>\n",
       "      <td>14.0</td>\n",
       "      <td>29.0</td>\n",
       "      <td>13</td>\n",
       "      <td>389.0</td>\n",
       "      <td>3.0</td>\n",
       "      <td>5.0</td>\n",
       "      <td>0.0</td>\n",
       "      <td>0.0</td>\n",
       "      <td>0.0</td>\n",
       "      <td>1.0</td>\n",
       "      <td>0.0</td>\n",
       "      <td>3989.0</td>\n",
       "      <td>0.21</td>\n",
       "      <td>10266.0</td>\n",
       "      <td>29.0</td>\n",
       "      <td>1.00</td>\n",
       "      <td>2.0</td>\n",
       "      <td>0.18</td>\n",
       "      <td>$50,000-74,999</td>\n",
       "      <td>True</td>\n",
       "      <td>6125.000000</td>\n",
       "      <td>9E3B37071505919926B1D82</td>\n",
       "      <td>NaN</td>\n",
       "      <td>NaN</td>\n",
       "      <td>NaN</td>\n",
       "      <td>NaN</td>\n",
       "      <td>NaN</td>\n",
       "      <td>NaN</td>\n",
       "      <td>NaN</td>\n",
       "      <td>NaN</td>\n",
       "      <td>0</td>\n",
       "      <td>NaN</td>\n",
       "      <td>0</td>\n",
       "      <td>134815</td>\n",
       "      <td>10000</td>\n",
       "      <td>2014-03-03 00:00:00</td>\n",
       "      <td>Q1 2014</td>\n",
       "      <td>1D13370546739025387B2F4</td>\n",
       "      <td>318.93</td>\n",
       "      <td>0.00</td>\n",
       "      <td>0.00</td>\n",
       "      <td>0.00</td>\n",
       "      <td>0.00</td>\n",
       "      <td>0.0</td>\n",
       "      <td>0.0</td>\n",
       "      <td>0.0</td>\n",
       "      <td>0.0</td>\n",
       "      <td>1.0</td>\n",
       "      <td>0</td>\n",
       "      <td>0</td>\n",
       "      <td>0.0</td>\n",
       "      <td>1</td>\n",
       "    </tr>\n",
       "    <tr>\n",
       "      <th>2</th>\n",
       "      <td>0EE9337825851032864889A</td>\n",
       "      <td>81716</td>\n",
       "      <td>2007-01-05 15:00:47.090000000</td>\n",
       "      <td>HR</td>\n",
       "      <td>36</td>\n",
       "      <td>Completed</td>\n",
       "      <td>2009-12-17 00:00:00</td>\n",
       "      <td>0.28269</td>\n",
       "      <td>0.2750</td>\n",
       "      <td>0.2400</td>\n",
       "      <td>NaN</td>\n",
       "      <td>NaN</td>\n",
       "      <td>NaN</td>\n",
       "      <td>NaN</td>\n",
       "      <td>NaN</td>\n",
       "      <td>NaN</td>\n",
       "      <td>0</td>\n",
       "      <td>GA</td>\n",
       "      <td>Other</td>\n",
       "      <td>Not available</td>\n",
       "      <td>NaN</td>\n",
       "      <td>False</td>\n",
       "      <td>True</td>\n",
       "      <td>783C3371218786870A73D20</td>\n",
       "      <td>2007-01-02 14:09:10.060000000</td>\n",
       "      <td>480.0</td>\n",
       "      <td>499.0</td>\n",
       "      <td>2002-07-27 00:00:00</td>\n",
       "      <td>NaN</td>\n",
       "      <td>NaN</td>\n",
       "      <td>3.0</td>\n",
       "      <td>0</td>\n",
       "      <td>0.0</td>\n",
       "      <td>0.0</td>\n",
       "      <td>1.0</td>\n",
       "      <td>1.0</td>\n",
       "      <td>NaN</td>\n",
       "      <td>0.0</td>\n",
       "      <td>0.0</td>\n",
       "      <td>NaN</td>\n",
       "      <td>NaN</td>\n",
       "      <td>NaN</td>\n",
       "      <td>NaN</td>\n",
       "      <td>NaN</td>\n",
       "      <td>NaN</td>\n",
       "      <td>NaN</td>\n",
       "      <td>0.06</td>\n",
       "      <td>Not displayed</td>\n",
       "      <td>True</td>\n",
       "      <td>2083.333333</td>\n",
       "      <td>6954337960046817851BCB2</td>\n",
       "      <td>NaN</td>\n",
       "      <td>NaN</td>\n",
       "      <td>NaN</td>\n",
       "      <td>NaN</td>\n",
       "      <td>NaN</td>\n",
       "      <td>NaN</td>\n",
       "      <td>NaN</td>\n",
       "      <td>NaN</td>\n",
       "      <td>0</td>\n",
       "      <td>NaN</td>\n",
       "      <td>86</td>\n",
       "      <td>6466</td>\n",
       "      <td>3001</td>\n",
       "      <td>2007-01-17 00:00:00</td>\n",
       "      <td>Q1 2007</td>\n",
       "      <td>5F7033715035555618FA612</td>\n",
       "      <td>123.32</td>\n",
       "      <td>4186.63</td>\n",
       "      <td>3001.00</td>\n",
       "      <td>1185.63</td>\n",
       "      <td>-24.20</td>\n",
       "      <td>0.0</td>\n",
       "      <td>0.0</td>\n",
       "      <td>0.0</td>\n",
       "      <td>0.0</td>\n",
       "      <td>1.0</td>\n",
       "      <td>0</td>\n",
       "      <td>0</td>\n",
       "      <td>0.0</td>\n",
       "      <td>41</td>\n",
       "    </tr>\n",
       "    <tr>\n",
       "      <th>3</th>\n",
       "      <td>0EF5356002482715299901A</td>\n",
       "      <td>658116</td>\n",
       "      <td>2012-10-22 11:02:35.010000000</td>\n",
       "      <td>NaN</td>\n",
       "      <td>36</td>\n",
       "      <td>Current</td>\n",
       "      <td>NaN</td>\n",
       "      <td>0.12528</td>\n",
       "      <td>0.0974</td>\n",
       "      <td>0.0874</td>\n",
       "      <td>0.08490</td>\n",
       "      <td>0.0249</td>\n",
       "      <td>0.06000</td>\n",
       "      <td>6.0</td>\n",
       "      <td>A</td>\n",
       "      <td>9.0</td>\n",
       "      <td>16</td>\n",
       "      <td>GA</td>\n",
       "      <td>Skilled Labor</td>\n",
       "      <td>Employed</td>\n",
       "      <td>113.0</td>\n",
       "      <td>True</td>\n",
       "      <td>False</td>\n",
       "      <td>NaN</td>\n",
       "      <td>2012-10-22 11:02:32</td>\n",
       "      <td>800.0</td>\n",
       "      <td>819.0</td>\n",
       "      <td>1983-02-28 00:00:00</td>\n",
       "      <td>5.0</td>\n",
       "      <td>5.0</td>\n",
       "      <td>29.0</td>\n",
       "      <td>7</td>\n",
       "      <td>115.0</td>\n",
       "      <td>0.0</td>\n",
       "      <td>1.0</td>\n",
       "      <td>4.0</td>\n",
       "      <td>10056.0</td>\n",
       "      <td>14.0</td>\n",
       "      <td>0.0</td>\n",
       "      <td>0.0</td>\n",
       "      <td>1444.0</td>\n",
       "      <td>0.04</td>\n",
       "      <td>30754.0</td>\n",
       "      <td>26.0</td>\n",
       "      <td>0.76</td>\n",
       "      <td>0.0</td>\n",
       "      <td>0.15</td>\n",
       "      <td>$25,000-49,999</td>\n",
       "      <td>True</td>\n",
       "      <td>2875.000000</td>\n",
       "      <td>A0393664465886295619C51</td>\n",
       "      <td>NaN</td>\n",
       "      <td>NaN</td>\n",
       "      <td>NaN</td>\n",
       "      <td>NaN</td>\n",
       "      <td>NaN</td>\n",
       "      <td>NaN</td>\n",
       "      <td>NaN</td>\n",
       "      <td>NaN</td>\n",
       "      <td>0</td>\n",
       "      <td>NaN</td>\n",
       "      <td>16</td>\n",
       "      <td>77296</td>\n",
       "      <td>10000</td>\n",
       "      <td>2012-11-01 00:00:00</td>\n",
       "      <td>Q4 2012</td>\n",
       "      <td>9ADE356069835475068C6D2</td>\n",
       "      <td>321.45</td>\n",
       "      <td>5143.20</td>\n",
       "      <td>4091.09</td>\n",
       "      <td>1052.11</td>\n",
       "      <td>-108.01</td>\n",
       "      <td>0.0</td>\n",
       "      <td>0.0</td>\n",
       "      <td>0.0</td>\n",
       "      <td>0.0</td>\n",
       "      <td>1.0</td>\n",
       "      <td>0</td>\n",
       "      <td>0</td>\n",
       "      <td>0.0</td>\n",
       "      <td>158</td>\n",
       "    </tr>\n",
       "    <tr>\n",
       "      <th>4</th>\n",
       "      <td>0F023589499656230C5E3E2</td>\n",
       "      <td>909464</td>\n",
       "      <td>2013-09-14 18:38:39.097000000</td>\n",
       "      <td>NaN</td>\n",
       "      <td>36</td>\n",
       "      <td>Current</td>\n",
       "      <td>NaN</td>\n",
       "      <td>0.24614</td>\n",
       "      <td>0.2085</td>\n",
       "      <td>0.1985</td>\n",
       "      <td>0.18316</td>\n",
       "      <td>0.0925</td>\n",
       "      <td>0.09066</td>\n",
       "      <td>3.0</td>\n",
       "      <td>D</td>\n",
       "      <td>4.0</td>\n",
       "      <td>2</td>\n",
       "      <td>MN</td>\n",
       "      <td>Executive</td>\n",
       "      <td>Employed</td>\n",
       "      <td>44.0</td>\n",
       "      <td>True</td>\n",
       "      <td>False</td>\n",
       "      <td>NaN</td>\n",
       "      <td>2013-09-14 18:38:44</td>\n",
       "      <td>680.0</td>\n",
       "      <td>699.0</td>\n",
       "      <td>2004-02-20 00:00:00</td>\n",
       "      <td>19.0</td>\n",
       "      <td>19.0</td>\n",
       "      <td>49.0</td>\n",
       "      <td>6</td>\n",
       "      <td>220.0</td>\n",
       "      <td>1.0</td>\n",
       "      <td>9.0</td>\n",
       "      <td>0.0</td>\n",
       "      <td>0.0</td>\n",
       "      <td>0.0</td>\n",
       "      <td>0.0</td>\n",
       "      <td>0.0</td>\n",
       "      <td>6193.0</td>\n",
       "      <td>0.81</td>\n",
       "      <td>695.0</td>\n",
       "      <td>39.0</td>\n",
       "      <td>0.95</td>\n",
       "      <td>2.0</td>\n",
       "      <td>0.26</td>\n",
       "      <td>$100,000+</td>\n",
       "      <td>True</td>\n",
       "      <td>9583.333333</td>\n",
       "      <td>A180369302188889200689E</td>\n",
       "      <td>1.0</td>\n",
       "      <td>11.0</td>\n",
       "      <td>11.0</td>\n",
       "      <td>0.0</td>\n",
       "      <td>0.0</td>\n",
       "      <td>11000.0</td>\n",
       "      <td>9947.9</td>\n",
       "      <td>NaN</td>\n",
       "      <td>0</td>\n",
       "      <td>NaN</td>\n",
       "      <td>6</td>\n",
       "      <td>102670</td>\n",
       "      <td>15000</td>\n",
       "      <td>2013-09-20 00:00:00</td>\n",
       "      <td>Q3 2013</td>\n",
       "      <td>36CE356043264555721F06C</td>\n",
       "      <td>563.97</td>\n",
       "      <td>2819.85</td>\n",
       "      <td>1563.22</td>\n",
       "      <td>1256.63</td>\n",
       "      <td>-60.27</td>\n",
       "      <td>0.0</td>\n",
       "      <td>0.0</td>\n",
       "      <td>0.0</td>\n",
       "      <td>0.0</td>\n",
       "      <td>1.0</td>\n",
       "      <td>0</td>\n",
       "      <td>0</td>\n",
       "      <td>0.0</td>\n",
       "      <td>20</td>\n",
       "    </tr>\n",
       "  </tbody>\n",
       "</table>\n",
       "</div>"
      ],
      "text/plain": [
       "                ListingKey  ListingNumber            ListingCreationDate  \\\n",
       "0  1021339766868145413AB3B         193129  2007-08-26 19:09:29.263000000   \n",
       "1  10273602499503308B223C1        1209647  2014-02-27 08:28:07.900000000   \n",
       "2  0EE9337825851032864889A          81716  2007-01-05 15:00:47.090000000   \n",
       "3  0EF5356002482715299901A         658116  2012-10-22 11:02:35.010000000   \n",
       "4  0F023589499656230C5E3E2         909464  2013-09-14 18:38:39.097000000   \n",
       "\n",
       "  CreditGrade  Term LoanStatus           ClosedDate  BorrowerAPR  \\\n",
       "0           C    36  Completed  2009-08-14 00:00:00      0.16516   \n",
       "1         NaN    36    Current                  NaN      0.12016   \n",
       "2          HR    36  Completed  2009-12-17 00:00:00      0.28269   \n",
       "3         NaN    36    Current                  NaN      0.12528   \n",
       "4         NaN    36    Current                  NaN      0.24614   \n",
       "\n",
       "   BorrowerRate  LenderYield  EstimatedEffectiveYield  EstimatedLoss  \\\n",
       "0        0.1580       0.1380                      NaN            NaN   \n",
       "1        0.0920       0.0820                  0.07960         0.0249   \n",
       "2        0.2750       0.2400                      NaN            NaN   \n",
       "3        0.0974       0.0874                  0.08490         0.0249   \n",
       "4        0.2085       0.1985                  0.18316         0.0925   \n",
       "\n",
       "   EstimatedReturn  ProsperRating (numeric) ProsperRating (Alpha)  \\\n",
       "0              NaN                      NaN                   NaN   \n",
       "1          0.05470                      6.0                     A   \n",
       "2              NaN                      NaN                   NaN   \n",
       "3          0.06000                      6.0                     A   \n",
       "4          0.09066                      3.0                     D   \n",
       "\n",
       "   ProsperScore  ListingCategory (numeric) BorrowerState     Occupation  \\\n",
       "0           NaN                          0            CO          Other   \n",
       "1           7.0                          2            CO   Professional   \n",
       "2           NaN                          0            GA          Other   \n",
       "3           9.0                         16            GA  Skilled Labor   \n",
       "4           4.0                          2            MN      Executive   \n",
       "\n",
       "  EmploymentStatus  EmploymentStatusDuration  IsBorrowerHomeowner  \\\n",
       "0    Self-employed                       2.0                 True   \n",
       "1         Employed                      44.0                False   \n",
       "2    Not available                       NaN                False   \n",
       "3         Employed                     113.0                 True   \n",
       "4         Employed                      44.0                 True   \n",
       "\n",
       "   CurrentlyInGroup                 GroupKey               DateCreditPulled  \\\n",
       "0              True                      NaN  2007-08-26 18:41:46.780000000   \n",
       "1             False                      NaN            2014-02-27 08:28:14   \n",
       "2              True  783C3371218786870A73D20  2007-01-02 14:09:10.060000000   \n",
       "3             False                      NaN            2012-10-22 11:02:32   \n",
       "4             False                      NaN            2013-09-14 18:38:44   \n",
       "\n",
       "   CreditScoreRangeLower  CreditScoreRangeUpper FirstRecordedCreditLine  \\\n",
       "0                  640.0                  659.0     2001-10-11 00:00:00   \n",
       "1                  680.0                  699.0     1996-03-18 00:00:00   \n",
       "2                  480.0                  499.0     2002-07-27 00:00:00   \n",
       "3                  800.0                  819.0     1983-02-28 00:00:00   \n",
       "4                  680.0                  699.0     2004-02-20 00:00:00   \n",
       "\n",
       "   CurrentCreditLines  OpenCreditLines  TotalCreditLinespast7years  \\\n",
       "0                 5.0              4.0                        12.0   \n",
       "1                14.0             14.0                        29.0   \n",
       "2                 NaN              NaN                         3.0   \n",
       "3                 5.0              5.0                        29.0   \n",
       "4                19.0             19.0                        49.0   \n",
       "\n",
       "   OpenRevolvingAccounts  OpenRevolvingMonthlyPayment  InquiriesLast6Months  \\\n",
       "0                      1                         24.0                   3.0   \n",
       "1                     13                        389.0                   3.0   \n",
       "2                      0                          0.0                   0.0   \n",
       "3                      7                        115.0                   0.0   \n",
       "4                      6                        220.0                   1.0   \n",
       "\n",
       "   TotalInquiries  CurrentDelinquencies  AmountDelinquent  \\\n",
       "0             3.0                   2.0             472.0   \n",
       "1             5.0                   0.0               0.0   \n",
       "2             1.0                   1.0               NaN   \n",
       "3             1.0                   4.0           10056.0   \n",
       "4             9.0                   0.0               0.0   \n",
       "\n",
       "   DelinquenciesLast7Years  PublicRecordsLast10Years  \\\n",
       "0                      4.0                       0.0   \n",
       "1                      0.0                       1.0   \n",
       "2                      0.0                       0.0   \n",
       "3                     14.0                       0.0   \n",
       "4                      0.0                       0.0   \n",
       "\n",
       "   PublicRecordsLast12Months  RevolvingCreditBalance  BankcardUtilization  \\\n",
       "0                        0.0                     0.0                 0.00   \n",
       "1                        0.0                  3989.0                 0.21   \n",
       "2                        NaN                     NaN                  NaN   \n",
       "3                        0.0                  1444.0                 0.04   \n",
       "4                        0.0                  6193.0                 0.81   \n",
       "\n",
       "   AvailableBankcardCredit  TotalTrades  TradesNeverDelinquent (percentage)  \\\n",
       "0                   1500.0         11.0                                0.81   \n",
       "1                  10266.0         29.0                                1.00   \n",
       "2                      NaN          NaN                                 NaN   \n",
       "3                  30754.0         26.0                                0.76   \n",
       "4                    695.0         39.0                                0.95   \n",
       "\n",
       "   TradesOpenedLast6Months  DebtToIncomeRatio     IncomeRange  \\\n",
       "0                      0.0               0.17  $25,000-49,999   \n",
       "1                      2.0               0.18  $50,000-74,999   \n",
       "2                      NaN               0.06   Not displayed   \n",
       "3                      0.0               0.15  $25,000-49,999   \n",
       "4                      2.0               0.26       $100,000+   \n",
       "\n",
       "   IncomeVerifiable  StatedMonthlyIncome                  LoanKey  \\\n",
       "0              True          3083.333333  E33A3400205839220442E84   \n",
       "1              True          6125.000000  9E3B37071505919926B1D82   \n",
       "2              True          2083.333333  6954337960046817851BCB2   \n",
       "3              True          2875.000000  A0393664465886295619C51   \n",
       "4              True          9583.333333  A180369302188889200689E   \n",
       "\n",
       "   TotalProsperLoans  TotalProsperPaymentsBilled  OnTimeProsperPayments  \\\n",
       "0                NaN                         NaN                    NaN   \n",
       "1                NaN                         NaN                    NaN   \n",
       "2                NaN                         NaN                    NaN   \n",
       "3                NaN                         NaN                    NaN   \n",
       "4                1.0                        11.0                   11.0   \n",
       "\n",
       "   ProsperPaymentsLessThanOneMonthLate  ProsperPaymentsOneMonthPlusLate  \\\n",
       "0                                  NaN                              NaN   \n",
       "1                                  NaN                              NaN   \n",
       "2                                  NaN                              NaN   \n",
       "3                                  NaN                              NaN   \n",
       "4                                  0.0                              0.0   \n",
       "\n",
       "   ProsperPrincipalBorrowed  ProsperPrincipalOutstanding  \\\n",
       "0                       NaN                          NaN   \n",
       "1                       NaN                          NaN   \n",
       "2                       NaN                          NaN   \n",
       "3                       NaN                          NaN   \n",
       "4                   11000.0                       9947.9   \n",
       "\n",
       "   ScorexChangeAtTimeOfListing  LoanCurrentDaysDelinquent  \\\n",
       "0                          NaN                          0   \n",
       "1                          NaN                          0   \n",
       "2                          NaN                          0   \n",
       "3                          NaN                          0   \n",
       "4                          NaN                          0   \n",
       "\n",
       "   LoanFirstDefaultedCycleNumber  LoanMonthsSinceOrigination  LoanNumber  \\\n",
       "0                            NaN                          78       19141   \n",
       "1                            NaN                           0      134815   \n",
       "2                            NaN                          86        6466   \n",
       "3                            NaN                          16       77296   \n",
       "4                            NaN                           6      102670   \n",
       "\n",
       "   LoanOriginalAmount  LoanOriginationDate LoanOriginationQuarter  \\\n",
       "0                9425  2007-09-12 00:00:00                Q3 2007   \n",
       "1               10000  2014-03-03 00:00:00                Q1 2014   \n",
       "2                3001  2007-01-17 00:00:00                Q1 2007   \n",
       "3               10000  2012-11-01 00:00:00                Q4 2012   \n",
       "4               15000  2013-09-20 00:00:00                Q3 2013   \n",
       "\n",
       "                 MemberKey  MonthlyLoanPayment  LP_CustomerPayments  \\\n",
       "0  1F3E3376408759268057EDA              330.43             11396.14   \n",
       "1  1D13370546739025387B2F4              318.93                 0.00   \n",
       "2  5F7033715035555618FA612              123.32              4186.63   \n",
       "3  9ADE356069835475068C6D2              321.45              5143.20   \n",
       "4  36CE356043264555721F06C              563.97              2819.85   \n",
       "\n",
       "   LP_CustomerPrincipalPayments  LP_InterestandFees  LP_ServiceFees  \\\n",
       "0                       9425.00             1971.14         -133.18   \n",
       "1                          0.00                0.00            0.00   \n",
       "2                       3001.00             1185.63          -24.20   \n",
       "3                       4091.09             1052.11         -108.01   \n",
       "4                       1563.22             1256.63          -60.27   \n",
       "\n",
       "   LP_CollectionFees  LP_GrossPrincipalLoss  LP_NetPrincipalLoss  \\\n",
       "0                0.0                    0.0                  0.0   \n",
       "1                0.0                    0.0                  0.0   \n",
       "2                0.0                    0.0                  0.0   \n",
       "3                0.0                    0.0                  0.0   \n",
       "4                0.0                    0.0                  0.0   \n",
       "\n",
       "   LP_NonPrincipalRecoverypayments  PercentFunded  Recommendations  \\\n",
       "0                              0.0            1.0                0   \n",
       "1                              0.0            1.0                0   \n",
       "2                              0.0            1.0                0   \n",
       "3                              0.0            1.0                0   \n",
       "4                              0.0            1.0                0   \n",
       "\n",
       "   InvestmentFromFriendsCount  InvestmentFromFriendsAmount  Investors  \n",
       "0                           0                          0.0        258  \n",
       "1                           0                          0.0          1  \n",
       "2                           0                          0.0         41  \n",
       "3                           0                          0.0        158  \n",
       "4                           0                          0.0         20  "
      ]
     },
     "execution_count": 2,
     "metadata": {},
     "output_type": "execute_result"
    }
   ],
   "source": [
    "loans = pd.read_csv('prosperLoanData.csv')\n",
    "pd.set_option('display.max_columns', None)\n",
    "loans.head()"
   ]
  },
  {
   "cell_type": "code",
   "execution_count": 3,
   "metadata": {},
   "outputs": [
    {
     "name": "stdout",
     "output_type": "stream",
     "text": [
      "(113937, 81)\n"
     ]
    }
   ],
   "source": [
    "# high-level overview of data shape \n",
    "print(loans.shape)\n"
   ]
  },
  {
   "cell_type": "code",
   "execution_count": 4,
   "metadata": {},
   "outputs": [
    {
     "name": "stdout",
     "output_type": "stream",
     "text": [
      "<class 'pandas.core.frame.DataFrame'>\n",
      "RangeIndex: 113937 entries, 0 to 113936\n",
      "Data columns (total 81 columns):\n",
      " #   Column                               Non-Null Count   Dtype  \n",
      "---  ------                               --------------   -----  \n",
      " 0   ListingKey                           113937 non-null  object \n",
      " 1   ListingNumber                        113937 non-null  int64  \n",
      " 2   ListingCreationDate                  113937 non-null  object \n",
      " 3   CreditGrade                          28953 non-null   object \n",
      " 4   Term                                 113937 non-null  int64  \n",
      " 5   LoanStatus                           113937 non-null  object \n",
      " 6   ClosedDate                           55089 non-null   object \n",
      " 7   BorrowerAPR                          113912 non-null  float64\n",
      " 8   BorrowerRate                         113937 non-null  float64\n",
      " 9   LenderYield                          113937 non-null  float64\n",
      " 10  EstimatedEffectiveYield              84853 non-null   float64\n",
      " 11  EstimatedLoss                        84853 non-null   float64\n",
      " 12  EstimatedReturn                      84853 non-null   float64\n",
      " 13  ProsperRating (numeric)              84853 non-null   float64\n",
      " 14  ProsperRating (Alpha)                84853 non-null   object \n",
      " 15  ProsperScore                         84853 non-null   float64\n",
      " 16  ListingCategory (numeric)            113937 non-null  int64  \n",
      " 17  BorrowerState                        108422 non-null  object \n",
      " 18  Occupation                           110349 non-null  object \n",
      " 19  EmploymentStatus                     111682 non-null  object \n",
      " 20  EmploymentStatusDuration             106312 non-null  float64\n",
      " 21  IsBorrowerHomeowner                  113937 non-null  bool   \n",
      " 22  CurrentlyInGroup                     113937 non-null  bool   \n",
      " 23  GroupKey                             13341 non-null   object \n",
      " 24  DateCreditPulled                     113937 non-null  object \n",
      " 25  CreditScoreRangeLower                113346 non-null  float64\n",
      " 26  CreditScoreRangeUpper                113346 non-null  float64\n",
      " 27  FirstRecordedCreditLine              113240 non-null  object \n",
      " 28  CurrentCreditLines                   106333 non-null  float64\n",
      " 29  OpenCreditLines                      106333 non-null  float64\n",
      " 30  TotalCreditLinespast7years           113240 non-null  float64\n",
      " 31  OpenRevolvingAccounts                113937 non-null  int64  \n",
      " 32  OpenRevolvingMonthlyPayment          113937 non-null  float64\n",
      " 33  InquiriesLast6Months                 113240 non-null  float64\n",
      " 34  TotalInquiries                       112778 non-null  float64\n",
      " 35  CurrentDelinquencies                 113240 non-null  float64\n",
      " 36  AmountDelinquent                     106315 non-null  float64\n",
      " 37  DelinquenciesLast7Years              112947 non-null  float64\n",
      " 38  PublicRecordsLast10Years             113240 non-null  float64\n",
      " 39  PublicRecordsLast12Months            106333 non-null  float64\n",
      " 40  RevolvingCreditBalance               106333 non-null  float64\n",
      " 41  BankcardUtilization                  106333 non-null  float64\n",
      " 42  AvailableBankcardCredit              106393 non-null  float64\n",
      " 43  TotalTrades                          106393 non-null  float64\n",
      " 44  TradesNeverDelinquent (percentage)   106393 non-null  float64\n",
      " 45  TradesOpenedLast6Months              106393 non-null  float64\n",
      " 46  DebtToIncomeRatio                    105383 non-null  float64\n",
      " 47  IncomeRange                          113937 non-null  object \n",
      " 48  IncomeVerifiable                     113937 non-null  bool   \n",
      " 49  StatedMonthlyIncome                  113937 non-null  float64\n",
      " 50  LoanKey                              113937 non-null  object \n",
      " 51  TotalProsperLoans                    22085 non-null   float64\n",
      " 52  TotalProsperPaymentsBilled           22085 non-null   float64\n",
      " 53  OnTimeProsperPayments                22085 non-null   float64\n",
      " 54  ProsperPaymentsLessThanOneMonthLate  22085 non-null   float64\n",
      " 55  ProsperPaymentsOneMonthPlusLate      22085 non-null   float64\n",
      " 56  ProsperPrincipalBorrowed             22085 non-null   float64\n",
      " 57  ProsperPrincipalOutstanding          22085 non-null   float64\n",
      " 58  ScorexChangeAtTimeOfListing          18928 non-null   float64\n",
      " 59  LoanCurrentDaysDelinquent            113937 non-null  int64  \n",
      " 60  LoanFirstDefaultedCycleNumber        16952 non-null   float64\n",
      " 61  LoanMonthsSinceOrigination           113937 non-null  int64  \n",
      " 62  LoanNumber                           113937 non-null  int64  \n",
      " 63  LoanOriginalAmount                   113937 non-null  int64  \n",
      " 64  LoanOriginationDate                  113937 non-null  object \n",
      " 65  LoanOriginationQuarter               113937 non-null  object \n",
      " 66  MemberKey                            113937 non-null  object \n",
      " 67  MonthlyLoanPayment                   113937 non-null  float64\n",
      " 68  LP_CustomerPayments                  113937 non-null  float64\n",
      " 69  LP_CustomerPrincipalPayments         113937 non-null  float64\n",
      " 70  LP_InterestandFees                   113937 non-null  float64\n",
      " 71  LP_ServiceFees                       113937 non-null  float64\n",
      " 72  LP_CollectionFees                    113937 non-null  float64\n",
      " 73  LP_GrossPrincipalLoss                113937 non-null  float64\n",
      " 74  LP_NetPrincipalLoss                  113937 non-null  float64\n",
      " 75  LP_NonPrincipalRecoverypayments      113937 non-null  float64\n",
      " 76  PercentFunded                        113937 non-null  float64\n",
      " 77  Recommendations                      113937 non-null  int64  \n",
      " 78  InvestmentFromFriendsCount           113937 non-null  int64  \n",
      " 79  InvestmentFromFriendsAmount          113937 non-null  float64\n",
      " 80  Investors                            113937 non-null  int64  \n",
      "dtypes: bool(3), float64(50), int64(11), object(17)\n",
      "memory usage: 68.1+ MB\n"
     ]
    }
   ],
   "source": [
    "loans.info()"
   ]
  },
  {
   "cell_type": "markdown",
   "metadata": {},
   "source": [
    "The dataset has 113937 records with 81 columns. As the number of columns are higher, we need to select only those column that will be required for answering specific questions."
   ]
  },
  {
   "cell_type": "markdown",
   "metadata": {},
   "source": [
    "### What is the structure of the dataset?\n",
    "\n",
    " The dataset has 113937 records with 81 columns.The datatypes are str, int, float and boolean.\n",
    "\n",
    "### What is/are the main feature(s) of interest in our dataset?\n",
    " I am mostly interested in figuring out what factors impact the APR and which loans are at the risk of default\n",
    "\n",
    "### What features in the dataset will help support our investigation into our feature(s) of interest?\n",
    "\n",
    ">LoanKey <br>\n",
    "LoanStatus <br>\n",
    "BorrowerAPR <br>\n",
    "CreditGrade<br>\n",
    "ProsperRating (alpha) <br>\n",
    "ListingCategory(Numeric) <br>\n",
    "Occupation <br>\n",
    "EmploymentStatus <br>\n",
    "DebtToIncomeRatio <br>\n",
    "StatedMonthlyIncome <br>\n",
    "IncomeVerifiable <br>\n",
    "LoanOriginationDate <br>\n",
    "LoanOriginalAmount <br>\n",
    "Term <br>\n",
    "OpenRevolvingMonthlyPayment <br>\n",
    "TradesNeverDelinquent (percentage) "
   ]
  },
  {
   "cell_type": "code",
   "execution_count": 5,
   "metadata": {},
   "outputs": [],
   "source": [
    "# Lets filter the above columns in a new dataframe.\n",
    "cols = ['LoanKey', 'LoanStatus', 'BorrowerAPR', 'CreditGrade', 'ProsperRating (Alpha)', 'ListingCategory (numeric)',\n",
    "        'Occupation', 'EmploymentStatus', 'DebtToIncomeRatio', 'StatedMonthlyIncome', 'IncomeVerifiable', \n",
    "        'LoanOriginationDate', 'LoanOriginalAmount', 'Term', 'OpenRevolvingMonthlyPayment', \n",
    "       'TradesNeverDelinquent (percentage)']\n",
    "\n",
    "loans_subset = loans[cols]\n"
   ]
  },
  {
   "cell_type": "code",
   "execution_count": 6,
   "metadata": {},
   "outputs": [
    {
     "data": {
      "text/html": [
       "<div>\n",
       "<style scoped>\n",
       "    .dataframe tbody tr th:only-of-type {\n",
       "        vertical-align: middle;\n",
       "    }\n",
       "\n",
       "    .dataframe tbody tr th {\n",
       "        vertical-align: top;\n",
       "    }\n",
       "\n",
       "    .dataframe thead th {\n",
       "        text-align: right;\n",
       "    }\n",
       "</style>\n",
       "<table border=\"1\" class=\"dataframe\">\n",
       "  <thead>\n",
       "    <tr style=\"text-align: right;\">\n",
       "      <th></th>\n",
       "      <th>LoanKey</th>\n",
       "      <th>LoanStatus</th>\n",
       "      <th>BorrowerAPR</th>\n",
       "      <th>CreditGrade</th>\n",
       "      <th>ProsperRating (Alpha)</th>\n",
       "      <th>ListingCategory (numeric)</th>\n",
       "      <th>Occupation</th>\n",
       "      <th>EmploymentStatus</th>\n",
       "      <th>DebtToIncomeRatio</th>\n",
       "      <th>StatedMonthlyIncome</th>\n",
       "      <th>IncomeVerifiable</th>\n",
       "      <th>LoanOriginationDate</th>\n",
       "      <th>LoanOriginalAmount</th>\n",
       "      <th>Term</th>\n",
       "      <th>OpenRevolvingMonthlyPayment</th>\n",
       "      <th>TradesNeverDelinquent (percentage)</th>\n",
       "    </tr>\n",
       "  </thead>\n",
       "  <tbody>\n",
       "    <tr>\n",
       "      <th>111601</th>\n",
       "      <td>6080368595300045210895F</td>\n",
       "      <td>Current</td>\n",
       "      <td>0.18214</td>\n",
       "      <td>NaN</td>\n",
       "      <td>B</td>\n",
       "      <td>1</td>\n",
       "      <td>Sales - Commission</td>\n",
       "      <td>Employed</td>\n",
       "      <td>0.32</td>\n",
       "      <td>4750.000000</td>\n",
       "      <td>True</td>\n",
       "      <td>2013-06-19 00:00:00</td>\n",
       "      <td>13000</td>\n",
       "      <td>36</td>\n",
       "      <td>493.0</td>\n",
       "      <td>1.00</td>\n",
       "    </tr>\n",
       "    <tr>\n",
       "      <th>14421</th>\n",
       "      <td>1E6433747129868282680C1</td>\n",
       "      <td>Completed</td>\n",
       "      <td>0.08718</td>\n",
       "      <td>A</td>\n",
       "      <td>NaN</td>\n",
       "      <td>0</td>\n",
       "      <td>Student - College Sophomore</td>\n",
       "      <td>Not available</td>\n",
       "      <td>0.19</td>\n",
       "      <td>1675.000000</td>\n",
       "      <td>True</td>\n",
       "      <td>2006-11-20 00:00:00</td>\n",
       "      <td>1000</td>\n",
       "      <td>36</td>\n",
       "      <td>0.0</td>\n",
       "      <td>NaN</td>\n",
       "    </tr>\n",
       "    <tr>\n",
       "      <th>72975</th>\n",
       "      <td>422A3372191132984F697D3</td>\n",
       "      <td>Defaulted</td>\n",
       "      <td>0.29776</td>\n",
       "      <td>E</td>\n",
       "      <td>NaN</td>\n",
       "      <td>0</td>\n",
       "      <td>NaN</td>\n",
       "      <td>NaN</td>\n",
       "      <td>0.16</td>\n",
       "      <td>4605.833333</td>\n",
       "      <td>True</td>\n",
       "      <td>2006-11-10 00:00:00</td>\n",
       "      <td>3500</td>\n",
       "      <td>36</td>\n",
       "      <td>70.0</td>\n",
       "      <td>NaN</td>\n",
       "    </tr>\n",
       "    <tr>\n",
       "      <th>1300</th>\n",
       "      <td>BBD63704875536836B7BD08</td>\n",
       "      <td>Current</td>\n",
       "      <td>0.21687</td>\n",
       "      <td>NaN</td>\n",
       "      <td>C</td>\n",
       "      <td>15</td>\n",
       "      <td>Realtor</td>\n",
       "      <td>Self-employed</td>\n",
       "      <td>NaN</td>\n",
       "      <td>4500.000000</td>\n",
       "      <td>False</td>\n",
       "      <td>2014-02-11 00:00:00</td>\n",
       "      <td>15000</td>\n",
       "      <td>36</td>\n",
       "      <td>202.0</td>\n",
       "      <td>0.88</td>\n",
       "    </tr>\n",
       "    <tr>\n",
       "      <th>74524</th>\n",
       "      <td>207333750909023235B5A21</td>\n",
       "      <td>Completed</td>\n",
       "      <td>0.16747</td>\n",
       "      <td>D</td>\n",
       "      <td>NaN</td>\n",
       "      <td>0</td>\n",
       "      <td>NaN</td>\n",
       "      <td>NaN</td>\n",
       "      <td>0.14</td>\n",
       "      <td>3293.333333</td>\n",
       "      <td>True</td>\n",
       "      <td>2006-12-14 00:00:00</td>\n",
       "      <td>1025</td>\n",
       "      <td>36</td>\n",
       "      <td>0.0</td>\n",
       "      <td>NaN</td>\n",
       "    </tr>\n",
       "    <tr>\n",
       "      <th>73027</th>\n",
       "      <td>46E23675660252671746597</td>\n",
       "      <td>Current</td>\n",
       "      <td>0.17061</td>\n",
       "      <td>NaN</td>\n",
       "      <td>B</td>\n",
       "      <td>13</td>\n",
       "      <td>Other</td>\n",
       "      <td>Employed</td>\n",
       "      <td>0.44</td>\n",
       "      <td>4333.333333</td>\n",
       "      <td>True</td>\n",
       "      <td>2013-02-19 00:00:00</td>\n",
       "      <td>4000</td>\n",
       "      <td>60</td>\n",
       "      <td>596.0</td>\n",
       "      <td>1.00</td>\n",
       "    </tr>\n",
       "    <tr>\n",
       "      <th>105794</th>\n",
       "      <td>6D8E3406572969184C1A2F0</td>\n",
       "      <td>Completed</td>\n",
       "      <td>0.15214</td>\n",
       "      <td>A</td>\n",
       "      <td>NaN</td>\n",
       "      <td>0</td>\n",
       "      <td>Executive</td>\n",
       "      <td>Full-time</td>\n",
       "      <td>0.22</td>\n",
       "      <td>18750.000000</td>\n",
       "      <td>True</td>\n",
       "      <td>2007-11-28 00:00:00</td>\n",
       "      <td>8300</td>\n",
       "      <td>36</td>\n",
       "      <td>1785.0</td>\n",
       "      <td>1.00</td>\n",
       "    </tr>\n",
       "    <tr>\n",
       "      <th>100636</th>\n",
       "      <td>388436433690860846EE111</td>\n",
       "      <td>Current</td>\n",
       "      <td>0.24246</td>\n",
       "      <td>NaN</td>\n",
       "      <td>C</td>\n",
       "      <td>13</td>\n",
       "      <td>Teacher</td>\n",
       "      <td>Employed</td>\n",
       "      <td>0.22</td>\n",
       "      <td>6671.666667</td>\n",
       "      <td>True</td>\n",
       "      <td>2012-02-14 00:00:00</td>\n",
       "      <td>4500</td>\n",
       "      <td>36</td>\n",
       "      <td>596.0</td>\n",
       "      <td>0.94</td>\n",
       "    </tr>\n",
       "    <tr>\n",
       "      <th>3691</th>\n",
       "      <td>F8313707764081348ED21C3</td>\n",
       "      <td>Current</td>\n",
       "      <td>0.24807</td>\n",
       "      <td>NaN</td>\n",
       "      <td>D</td>\n",
       "      <td>1</td>\n",
       "      <td>Professional</td>\n",
       "      <td>Employed</td>\n",
       "      <td>0.45</td>\n",
       "      <td>5916.666667</td>\n",
       "      <td>True</td>\n",
       "      <td>2014-02-26 00:00:00</td>\n",
       "      <td>10000</td>\n",
       "      <td>36</td>\n",
       "      <td>961.0</td>\n",
       "      <td>1.00</td>\n",
       "    </tr>\n",
       "    <tr>\n",
       "      <th>93067</th>\n",
       "      <td>E2ED337928162869732CA38</td>\n",
       "      <td>Completed</td>\n",
       "      <td>0.16717</td>\n",
       "      <td>D</td>\n",
       "      <td>NaN</td>\n",
       "      <td>0</td>\n",
       "      <td>Executive</td>\n",
       "      <td>Not available</td>\n",
       "      <td>0.22</td>\n",
       "      <td>5000.000000</td>\n",
       "      <td>True</td>\n",
       "      <td>2007-01-09 00:00:00</td>\n",
       "      <td>3500</td>\n",
       "      <td>36</td>\n",
       "      <td>716.0</td>\n",
       "      <td>NaN</td>\n",
       "    </tr>\n",
       "  </tbody>\n",
       "</table>\n",
       "</div>"
      ],
      "text/plain": [
       "                        LoanKey LoanStatus  BorrowerAPR CreditGrade  \\\n",
       "111601  6080368595300045210895F    Current      0.18214         NaN   \n",
       "14421   1E6433747129868282680C1  Completed      0.08718           A   \n",
       "72975   422A3372191132984F697D3  Defaulted      0.29776           E   \n",
       "1300    BBD63704875536836B7BD08    Current      0.21687         NaN   \n",
       "74524   207333750909023235B5A21  Completed      0.16747           D   \n",
       "73027   46E23675660252671746597    Current      0.17061         NaN   \n",
       "105794  6D8E3406572969184C1A2F0  Completed      0.15214           A   \n",
       "100636  388436433690860846EE111    Current      0.24246         NaN   \n",
       "3691    F8313707764081348ED21C3    Current      0.24807         NaN   \n",
       "93067   E2ED337928162869732CA38  Completed      0.16717           D   \n",
       "\n",
       "       ProsperRating (Alpha)  ListingCategory (numeric)  \\\n",
       "111601                     B                          1   \n",
       "14421                    NaN                          0   \n",
       "72975                    NaN                          0   \n",
       "1300                       C                         15   \n",
       "74524                    NaN                          0   \n",
       "73027                      B                         13   \n",
       "105794                   NaN                          0   \n",
       "100636                     C                         13   \n",
       "3691                       D                          1   \n",
       "93067                    NaN                          0   \n",
       "\n",
       "                         Occupation EmploymentStatus  DebtToIncomeRatio  \\\n",
       "111601           Sales - Commission         Employed               0.32   \n",
       "14421   Student - College Sophomore    Not available               0.19   \n",
       "72975                           NaN              NaN               0.16   \n",
       "1300                        Realtor    Self-employed                NaN   \n",
       "74524                           NaN              NaN               0.14   \n",
       "73027                         Other         Employed               0.44   \n",
       "105794                    Executive        Full-time               0.22   \n",
       "100636                      Teacher         Employed               0.22   \n",
       "3691                   Professional         Employed               0.45   \n",
       "93067                     Executive    Not available               0.22   \n",
       "\n",
       "        StatedMonthlyIncome  IncomeVerifiable  LoanOriginationDate  \\\n",
       "111601          4750.000000              True  2013-06-19 00:00:00   \n",
       "14421           1675.000000              True  2006-11-20 00:00:00   \n",
       "72975           4605.833333              True  2006-11-10 00:00:00   \n",
       "1300            4500.000000             False  2014-02-11 00:00:00   \n",
       "74524           3293.333333              True  2006-12-14 00:00:00   \n",
       "73027           4333.333333              True  2013-02-19 00:00:00   \n",
       "105794         18750.000000              True  2007-11-28 00:00:00   \n",
       "100636          6671.666667              True  2012-02-14 00:00:00   \n",
       "3691            5916.666667              True  2014-02-26 00:00:00   \n",
       "93067           5000.000000              True  2007-01-09 00:00:00   \n",
       "\n",
       "        LoanOriginalAmount  Term  OpenRevolvingMonthlyPayment  \\\n",
       "111601               13000    36                        493.0   \n",
       "14421                 1000    36                          0.0   \n",
       "72975                 3500    36                         70.0   \n",
       "1300                 15000    36                        202.0   \n",
       "74524                 1025    36                          0.0   \n",
       "73027                 4000    60                        596.0   \n",
       "105794                8300    36                       1785.0   \n",
       "100636                4500    36                        596.0   \n",
       "3691                 10000    36                        961.0   \n",
       "93067                 3500    36                        716.0   \n",
       "\n",
       "        TradesNeverDelinquent (percentage)  \n",
       "111601                                1.00  \n",
       "14421                                  NaN  \n",
       "72975                                  NaN  \n",
       "1300                                  0.88  \n",
       "74524                                  NaN  \n",
       "73027                                 1.00  \n",
       "105794                                1.00  \n",
       "100636                                0.94  \n",
       "3691                                  1.00  \n",
       "93067                                  NaN  "
      ]
     },
     "execution_count": 6,
     "metadata": {},
     "output_type": "execute_result"
    }
   ],
   "source": [
    "loans_subset.sample(10)"
   ]
  },
  {
   "cell_type": "code",
   "execution_count": 7,
   "metadata": {},
   "outputs": [
    {
     "data": {
      "text/html": [
       "<div>\n",
       "<style scoped>\n",
       "    .dataframe tbody tr th:only-of-type {\n",
       "        vertical-align: middle;\n",
       "    }\n",
       "\n",
       "    .dataframe tbody tr th {\n",
       "        vertical-align: top;\n",
       "    }\n",
       "\n",
       "    .dataframe thead th {\n",
       "        text-align: right;\n",
       "    }\n",
       "</style>\n",
       "<table border=\"1\" class=\"dataframe\">\n",
       "  <thead>\n",
       "    <tr style=\"text-align: right;\">\n",
       "      <th></th>\n",
       "      <th>BorrowerAPR</th>\n",
       "      <th>ListingCategory (numeric)</th>\n",
       "      <th>DebtToIncomeRatio</th>\n",
       "      <th>StatedMonthlyIncome</th>\n",
       "      <th>LoanOriginalAmount</th>\n",
       "      <th>Term</th>\n",
       "      <th>OpenRevolvingMonthlyPayment</th>\n",
       "      <th>TradesNeverDelinquent (percentage)</th>\n",
       "    </tr>\n",
       "  </thead>\n",
       "  <tbody>\n",
       "    <tr>\n",
       "      <th>count</th>\n",
       "      <td>113912.000000</td>\n",
       "      <td>113937.000000</td>\n",
       "      <td>105383.000000</td>\n",
       "      <td>1.139370e+05</td>\n",
       "      <td>113937.00000</td>\n",
       "      <td>113937.000000</td>\n",
       "      <td>113937.000000</td>\n",
       "      <td>106393.000000</td>\n",
       "    </tr>\n",
       "    <tr>\n",
       "      <th>mean</th>\n",
       "      <td>0.218828</td>\n",
       "      <td>2.774209</td>\n",
       "      <td>0.275947</td>\n",
       "      <td>5.608026e+03</td>\n",
       "      <td>8337.01385</td>\n",
       "      <td>40.830248</td>\n",
       "      <td>398.292161</td>\n",
       "      <td>0.885897</td>\n",
       "    </tr>\n",
       "    <tr>\n",
       "      <th>std</th>\n",
       "      <td>0.080364</td>\n",
       "      <td>3.996797</td>\n",
       "      <td>0.551759</td>\n",
       "      <td>7.478497e+03</td>\n",
       "      <td>6245.80058</td>\n",
       "      <td>10.436212</td>\n",
       "      <td>447.159711</td>\n",
       "      <td>0.148179</td>\n",
       "    </tr>\n",
       "    <tr>\n",
       "      <th>min</th>\n",
       "      <td>0.006530</td>\n",
       "      <td>0.000000</td>\n",
       "      <td>0.000000</td>\n",
       "      <td>0.000000e+00</td>\n",
       "      <td>1000.00000</td>\n",
       "      <td>12.000000</td>\n",
       "      <td>0.000000</td>\n",
       "      <td>0.000000</td>\n",
       "    </tr>\n",
       "    <tr>\n",
       "      <th>25%</th>\n",
       "      <td>0.156290</td>\n",
       "      <td>1.000000</td>\n",
       "      <td>0.140000</td>\n",
       "      <td>3.200333e+03</td>\n",
       "      <td>4000.00000</td>\n",
       "      <td>36.000000</td>\n",
       "      <td>114.000000</td>\n",
       "      <td>0.820000</td>\n",
       "    </tr>\n",
       "    <tr>\n",
       "      <th>50%</th>\n",
       "      <td>0.209760</td>\n",
       "      <td>1.000000</td>\n",
       "      <td>0.220000</td>\n",
       "      <td>4.666667e+03</td>\n",
       "      <td>6500.00000</td>\n",
       "      <td>36.000000</td>\n",
       "      <td>271.000000</td>\n",
       "      <td>0.940000</td>\n",
       "    </tr>\n",
       "    <tr>\n",
       "      <th>75%</th>\n",
       "      <td>0.283810</td>\n",
       "      <td>3.000000</td>\n",
       "      <td>0.320000</td>\n",
       "      <td>6.825000e+03</td>\n",
       "      <td>12000.00000</td>\n",
       "      <td>36.000000</td>\n",
       "      <td>525.000000</td>\n",
       "      <td>1.000000</td>\n",
       "    </tr>\n",
       "    <tr>\n",
       "      <th>max</th>\n",
       "      <td>0.512290</td>\n",
       "      <td>20.000000</td>\n",
       "      <td>10.010000</td>\n",
       "      <td>1.750003e+06</td>\n",
       "      <td>35000.00000</td>\n",
       "      <td>60.000000</td>\n",
       "      <td>14985.000000</td>\n",
       "      <td>1.000000</td>\n",
       "    </tr>\n",
       "  </tbody>\n",
       "</table>\n",
       "</div>"
      ],
      "text/plain": [
       "         BorrowerAPR  ListingCategory (numeric)  DebtToIncomeRatio  \\\n",
       "count  113912.000000              113937.000000      105383.000000   \n",
       "mean        0.218828                   2.774209           0.275947   \n",
       "std         0.080364                   3.996797           0.551759   \n",
       "min         0.006530                   0.000000           0.000000   \n",
       "25%         0.156290                   1.000000           0.140000   \n",
       "50%         0.209760                   1.000000           0.220000   \n",
       "75%         0.283810                   3.000000           0.320000   \n",
       "max         0.512290                  20.000000          10.010000   \n",
       "\n",
       "       StatedMonthlyIncome  LoanOriginalAmount           Term  \\\n",
       "count         1.139370e+05        113937.00000  113937.000000   \n",
       "mean          5.608026e+03          8337.01385      40.830248   \n",
       "std           7.478497e+03          6245.80058      10.436212   \n",
       "min           0.000000e+00          1000.00000      12.000000   \n",
       "25%           3.200333e+03          4000.00000      36.000000   \n",
       "50%           4.666667e+03          6500.00000      36.000000   \n",
       "75%           6.825000e+03         12000.00000      36.000000   \n",
       "max           1.750003e+06         35000.00000      60.000000   \n",
       "\n",
       "       OpenRevolvingMonthlyPayment  TradesNeverDelinquent (percentage)  \n",
       "count                113937.000000                       106393.000000  \n",
       "mean                    398.292161                            0.885897  \n",
       "std                     447.159711                            0.148179  \n",
       "min                       0.000000                            0.000000  \n",
       "25%                     114.000000                            0.820000  \n",
       "50%                     271.000000                            0.940000  \n",
       "75%                     525.000000                            1.000000  \n",
       "max                   14985.000000                            1.000000  "
      ]
     },
     "execution_count": 7,
     "metadata": {},
     "output_type": "execute_result"
    }
   ],
   "source": [
    "loans_subset.describe()"
   ]
  },
  {
   "cell_type": "code",
   "execution_count": 8,
   "metadata": {},
   "outputs": [
    {
     "name": "stdout",
     "output_type": "stream",
     "text": [
      "<class 'pandas.core.frame.DataFrame'>\n",
      "RangeIndex: 113937 entries, 0 to 113936\n",
      "Data columns (total 16 columns):\n",
      " #   Column                              Non-Null Count   Dtype  \n",
      "---  ------                              --------------   -----  \n",
      " 0   LoanKey                             113937 non-null  object \n",
      " 1   LoanStatus                          113937 non-null  object \n",
      " 2   BorrowerAPR                         113912 non-null  float64\n",
      " 3   CreditGrade                         28953 non-null   object \n",
      " 4   ProsperRating (Alpha)               84853 non-null   object \n",
      " 5   ListingCategory (numeric)           113937 non-null  int64  \n",
      " 6   Occupation                          110349 non-null  object \n",
      " 7   EmploymentStatus                    111682 non-null  object \n",
      " 8   DebtToIncomeRatio                   105383 non-null  float64\n",
      " 9   StatedMonthlyIncome                 113937 non-null  float64\n",
      " 10  IncomeVerifiable                    113937 non-null  bool   \n",
      " 11  LoanOriginationDate                 113937 non-null  object \n",
      " 12  LoanOriginalAmount                  113937 non-null  int64  \n",
      " 13  Term                                113937 non-null  int64  \n",
      " 14  OpenRevolvingMonthlyPayment         113937 non-null  float64\n",
      " 15  TradesNeverDelinquent (percentage)  106393 non-null  float64\n",
      "dtypes: bool(1), float64(5), int64(3), object(7)\n",
      "memory usage: 13.1+ MB\n"
     ]
    }
   ],
   "source": [
    "loans_subset.info()"
   ]
  },
  {
   "cell_type": "markdown",
   "metadata": {},
   "source": [
    "From the above, we observe that APR has 25 missing records.Lets print those missing records"
   ]
  },
  {
   "cell_type": "code",
   "execution_count": 9,
   "metadata": {},
   "outputs": [
    {
     "data": {
      "text/plain": [
       "25"
      ]
     },
     "execution_count": 9,
     "metadata": {},
     "output_type": "execute_result"
    }
   ],
   "source": [
    "loans_subset['BorrowerAPR'].isna().sum()\n"
   ]
  },
  {
   "cell_type": "markdown",
   "metadata": {},
   "source": [
    "We observe that there are alot of variables that have missing values for these records.Hence, we can drop these records for improving our analysis"
   ]
  },
  {
   "cell_type": "code",
   "execution_count": 10,
   "metadata": {},
   "outputs": [
    {
     "data": {
      "text/plain": [
       "0"
      ]
     },
     "execution_count": 10,
     "metadata": {},
     "output_type": "execute_result"
    }
   ],
   "source": [
    "loans_subset = loans_subset[loans_subset['BorrowerAPR'].notna()]\n",
    "loans_subset.BorrowerAPR.isna().sum()"
   ]
  },
  {
   "cell_type": "code",
   "execution_count": 11,
   "metadata": {},
   "outputs": [
    {
     "data": {
      "text/html": [
       "<div>\n",
       "<style scoped>\n",
       "    .dataframe tbody tr th:only-of-type {\n",
       "        vertical-align: middle;\n",
       "    }\n",
       "\n",
       "    .dataframe tbody tr th {\n",
       "        vertical-align: top;\n",
       "    }\n",
       "\n",
       "    .dataframe thead th {\n",
       "        text-align: right;\n",
       "    }\n",
       "</style>\n",
       "<table border=\"1\" class=\"dataframe\">\n",
       "  <thead>\n",
       "    <tr style=\"text-align: right;\">\n",
       "      <th></th>\n",
       "      <th>LoanKey</th>\n",
       "      <th>LoanStatus</th>\n",
       "      <th>BorrowerAPR</th>\n",
       "      <th>CreditGrade</th>\n",
       "      <th>ProsperRating (Alpha)</th>\n",
       "      <th>ListingCategory (numeric)</th>\n",
       "      <th>Occupation</th>\n",
       "      <th>EmploymentStatus</th>\n",
       "      <th>DebtToIncomeRatio</th>\n",
       "      <th>StatedMonthlyIncome</th>\n",
       "      <th>IncomeVerifiable</th>\n",
       "      <th>LoanOriginationDate</th>\n",
       "      <th>LoanOriginalAmount</th>\n",
       "      <th>Term</th>\n",
       "      <th>OpenRevolvingMonthlyPayment</th>\n",
       "      <th>TradesNeverDelinquent (percentage)</th>\n",
       "    </tr>\n",
       "  </thead>\n",
       "  <tbody>\n",
       "    <tr>\n",
       "      <th>0</th>\n",
       "      <td>E33A3400205839220442E84</td>\n",
       "      <td>Completed</td>\n",
       "      <td>0.16516</td>\n",
       "      <td>C</td>\n",
       "      <td>NaN</td>\n",
       "      <td>0</td>\n",
       "      <td>Other</td>\n",
       "      <td>Self-employed</td>\n",
       "      <td>0.17</td>\n",
       "      <td>3083.333333</td>\n",
       "      <td>True</td>\n",
       "      <td>2007-09-12 00:00:00</td>\n",
       "      <td>9425</td>\n",
       "      <td>36</td>\n",
       "      <td>24.0</td>\n",
       "      <td>0.81</td>\n",
       "    </tr>\n",
       "    <tr>\n",
       "      <th>1</th>\n",
       "      <td>9E3B37071505919926B1D82</td>\n",
       "      <td>Current</td>\n",
       "      <td>0.12016</td>\n",
       "      <td>NaN</td>\n",
       "      <td>A</td>\n",
       "      <td>2</td>\n",
       "      <td>Professional</td>\n",
       "      <td>Employed</td>\n",
       "      <td>0.18</td>\n",
       "      <td>6125.000000</td>\n",
       "      <td>True</td>\n",
       "      <td>2014-03-03 00:00:00</td>\n",
       "      <td>10000</td>\n",
       "      <td>36</td>\n",
       "      <td>389.0</td>\n",
       "      <td>1.00</td>\n",
       "    </tr>\n",
       "    <tr>\n",
       "      <th>2</th>\n",
       "      <td>6954337960046817851BCB2</td>\n",
       "      <td>Completed</td>\n",
       "      <td>0.28269</td>\n",
       "      <td>HR</td>\n",
       "      <td>NaN</td>\n",
       "      <td>0</td>\n",
       "      <td>Other</td>\n",
       "      <td>Not available</td>\n",
       "      <td>0.06</td>\n",
       "      <td>2083.333333</td>\n",
       "      <td>True</td>\n",
       "      <td>2007-01-17 00:00:00</td>\n",
       "      <td>3001</td>\n",
       "      <td>36</td>\n",
       "      <td>0.0</td>\n",
       "      <td>NaN</td>\n",
       "    </tr>\n",
       "    <tr>\n",
       "      <th>3</th>\n",
       "      <td>A0393664465886295619C51</td>\n",
       "      <td>Current</td>\n",
       "      <td>0.12528</td>\n",
       "      <td>NaN</td>\n",
       "      <td>A</td>\n",
       "      <td>16</td>\n",
       "      <td>Skilled Labor</td>\n",
       "      <td>Employed</td>\n",
       "      <td>0.15</td>\n",
       "      <td>2875.000000</td>\n",
       "      <td>True</td>\n",
       "      <td>2012-11-01 00:00:00</td>\n",
       "      <td>10000</td>\n",
       "      <td>36</td>\n",
       "      <td>115.0</td>\n",
       "      <td>0.76</td>\n",
       "    </tr>\n",
       "    <tr>\n",
       "      <th>4</th>\n",
       "      <td>A180369302188889200689E</td>\n",
       "      <td>Current</td>\n",
       "      <td>0.24614</td>\n",
       "      <td>NaN</td>\n",
       "      <td>D</td>\n",
       "      <td>2</td>\n",
       "      <td>Executive</td>\n",
       "      <td>Employed</td>\n",
       "      <td>0.26</td>\n",
       "      <td>9583.333333</td>\n",
       "      <td>True</td>\n",
       "      <td>2013-09-20 00:00:00</td>\n",
       "      <td>15000</td>\n",
       "      <td>36</td>\n",
       "      <td>220.0</td>\n",
       "      <td>0.95</td>\n",
       "    </tr>\n",
       "  </tbody>\n",
       "</table>\n",
       "</div>"
      ],
      "text/plain": [
       "                   LoanKey LoanStatus  BorrowerAPR CreditGrade  \\\n",
       "0  E33A3400205839220442E84  Completed      0.16516           C   \n",
       "1  9E3B37071505919926B1D82    Current      0.12016         NaN   \n",
       "2  6954337960046817851BCB2  Completed      0.28269          HR   \n",
       "3  A0393664465886295619C51    Current      0.12528         NaN   \n",
       "4  A180369302188889200689E    Current      0.24614         NaN   \n",
       "\n",
       "  ProsperRating (Alpha)  ListingCategory (numeric)     Occupation  \\\n",
       "0                   NaN                          0          Other   \n",
       "1                     A                          2   Professional   \n",
       "2                   NaN                          0          Other   \n",
       "3                     A                         16  Skilled Labor   \n",
       "4                     D                          2      Executive   \n",
       "\n",
       "  EmploymentStatus  DebtToIncomeRatio  StatedMonthlyIncome  IncomeVerifiable  \\\n",
       "0    Self-employed               0.17          3083.333333              True   \n",
       "1         Employed               0.18          6125.000000              True   \n",
       "2    Not available               0.06          2083.333333              True   \n",
       "3         Employed               0.15          2875.000000              True   \n",
       "4         Employed               0.26          9583.333333              True   \n",
       "\n",
       "   LoanOriginationDate  LoanOriginalAmount  Term  OpenRevolvingMonthlyPayment  \\\n",
       "0  2007-09-12 00:00:00                9425    36                         24.0   \n",
       "1  2014-03-03 00:00:00               10000    36                        389.0   \n",
       "2  2007-01-17 00:00:00                3001    36                          0.0   \n",
       "3  2012-11-01 00:00:00               10000    36                        115.0   \n",
       "4  2013-09-20 00:00:00               15000    36                        220.0   \n",
       "\n",
       "   TradesNeverDelinquent (percentage)  \n",
       "0                                0.81  \n",
       "1                                1.00  \n",
       "2                                 NaN  \n",
       "3                                0.76  \n",
       "4                                0.95  "
      ]
     },
     "execution_count": 11,
     "metadata": {},
     "output_type": "execute_result"
    }
   ],
   "source": [
    "loans_subset.head()"
   ]
  },
  {
   "cell_type": "markdown",
   "metadata": {},
   "source": [
    "## Univariate Exploration\n",
    "\n",
    "> In this section, we will investigate distributions of individual variables. If there are unusual points or outliers, we would take a deeper look to clean things up and examine any relationships between variables.\n",
    "\n",
    "Univariate Exploration can be done using any of the following vasualizations:\n",
    "\n",
    "1. Bar Charts - for categorical Variables\n",
    "2. Histograms - for quantitative variables\n",
    "3. Pie Charts - This is used to depict relative frequencies for levels of a categorical variable\n"
   ]
  },
  {
   "cell_type": "markdown",
   "metadata": {},
   "source": [
    "#### Question\n",
    "What is the distribution of APR?\n",
    "#### Visualization"
   ]
  },
  {
   "cell_type": "code",
   "execution_count": 12,
   "metadata": {},
   "outputs": [],
   "source": [
    "def plot_histogram_with_stats(data: pd.DataFrame, column_name: str, bin_max: float, bin_width: float) -> None:\n",
    "    \"\"\"\n",
    "    Plot a histogram of a column from a DataFrame with mean, minimum, and maximum values displayed.\n",
    "\n",
    "    Args:\n",
    "        data (pd.DataFrame): The input DataFrame.\n",
    "        column_name (str): The name of the column to plot.\n",
    "\n",
    "    Returns:\n",
    "        None\n",
    "    \"\"\"\n",
    "\n",
    "    # Create a new figure\n",
    "    fig = plt.figure(figsize=(11, 5))\n",
    "\n",
    "    # The argument of add_axes represents the dimensions [left, bottom, width, height] of the new axes. \n",
    "    # All quantities are in fractions of figure width and height.\n",
    "    ax = fig.add_axes([.125, .125, .775, .755])\n",
    "    bins = np.arange(0, bin_max, bin_width)\n",
    "    ax.hist(data=data, x=column_name, bins=bins)\n",
    "    \n",
    "    col_mean = data[column_name].mean()\n",
    "\n",
    "    plt.axvline(col_mean, color='red', linestyle='dashed', linewidth=2)\n",
    "    plt.title(column_name)\n",
    "    plt.xlabel(column_name)\n",
    "    plt.ylabel('Total Count')\n",
    "    plt.show()"
   ]
  },
  {
   "cell_type": "code",
   "execution_count": 13,
   "metadata": {},
   "outputs": [
    {
     "data": {
      "image/png": "[encoded data removed]",
      "text/plain": [
       "<Figure size 792x360 with 1 Axes>"
      ]
     },
     "metadata": {
      "needs_background": "light"
     },
     "output_type": "display_data"
    }
   ],
   "source": [
    "plot_histogram_with_stats(loans_subset, 'BorrowerAPR', loans_subset['BorrowerAPR'].max()+0.05, 0.01)"
   ]
  },
  {
   "cell_type": "markdown",
   "metadata": {},
   "source": [
    "#### Observations"
   ]
  },
  {
   "cell_type": "markdown",
   "metadata": {},
   "source": [
    "1. The values of APR range from 0.006 to 0.42 \n",
    "2. It can be observed that it is multimodal histogram with small peak at 0.1 and bigger ones at 0.2. Afterward, it goes on a downward trend with a peak at 0.3 and a sudden spike at 0.36\n",
    "3. We observe that majority of the data is centered around the mean Value i.e. 0.22 "
   ]
  },
  {
   "cell_type": "markdown",
   "metadata": {},
   "source": [
    "#### Question\n",
    "What is the distribution of StatedMonthlyIncome?\n",
    "\n",
    "#### Visualization"
   ]
  },
  {
   "cell_type": "code",
   "execution_count": 14,
   "metadata": {},
   "outputs": [
    {
     "data": {
      "image/png": "[encoded data removed]",
      "text/plain": [
       "<Figure size 1008x864 with 1 Axes>"
      ]
     },
     "metadata": {
      "needs_background": "light"
     },
     "output_type": "display_data"
    }
   ],
   "source": [
    "# Lets first plot a boxplot to find any outliers in the Monthly Income column\n",
    "\n",
    "loans_subset.boxplot(column='StatedMonthlyIncome')\n",
    "\n",
    "# Set the title and axis labels\n",
    "plt.title('Boxplot of {}'.format('StatedMonthlyIncome'))\n",
    "plt.xlabel('Column')\n",
    "plt.ylabel('Value')\n",
    "\n",
    "# Show the plot\n",
    "plt.show()"
   ]
  },
  {
   "cell_type": "markdown",
   "metadata": {},
   "source": [
    "We see from the above figure that majority values are within 0.75, hence to plot a histogram, we can take the maximum bin width to be 0.75 i.e 75000 as the values are automatically converted into decimals while plotting box plot"
   ]
  },
  {
   "cell_type": "code",
   "execution_count": 15,
   "metadata": {},
   "outputs": [
    {
     "data": {
      "image/png": "[encoded data removed]",
      "text/plain": [
       "<Figure size 792x360 with 1 Axes>"
      ]
     },
     "metadata": {
      "needs_background": "light"
     },
     "output_type": "display_data"
    }
   ],
   "source": [
    "plot_histogram_with_stats(loans_subset, 'StatedMonthlyIncome', 75000, 500)"
   ]
  },
  {
   "cell_type": "markdown",
   "metadata": {},
   "source": [
    "#### Observation"
   ]
  },
  {
   "cell_type": "markdown",
   "metadata": {},
   "source": [
    "1. The distribution is right skewed, indicating the majority loans were applied by people having monthly income of less than USD 40,000\n",
    "2. The mean income of the applicants is around USD 5,000 suggesting majority of the applicants are earning monthly income ranging between 0 - USD 8,000.\n",
    "3. There are a lot of data points at 0, which suggests that these people are not earning any income or these are missing records"
   ]
  },
  {
   "cell_type": "markdown",
   "metadata": {},
   "source": [
    "#### Question:\n",
    "What is the distribution of LoanOriginalAmount?\n",
    "\n",
    "#### Visualization:"
   ]
  },
  {
   "cell_type": "code",
   "execution_count": 16,
   "metadata": {},
   "outputs": [
    {
     "data": {
      "text/plain": [
       "35000"
      ]
     },
     "execution_count": 16,
     "metadata": {},
     "output_type": "execute_result"
    }
   ],
   "source": [
    "# Lets find the maximum amount of loan \n",
    "loans_subset.LoanOriginalAmount.max()"
   ]
  },
  {
   "cell_type": "code",
   "execution_count": 17,
   "metadata": {},
   "outputs": [
    {
     "data": {
      "image/png": "[encoded data removed]",
      "text/plain": [
       "<Figure size 792x360 with 1 Axes>"
      ]
     },
     "metadata": {
      "needs_background": "light"
     },
     "output_type": "display_data"
    }
   ],
   "source": [
    "plot_histogram_with_stats(loans_subset, 'LoanOriginalAmount', 35000, 500)"
   ]
  },
  {
   "cell_type": "markdown",
   "metadata": {},
   "source": [
    "1. The distribution of loan amount is multimodal.It shows multiple spikes around USD 4,000, USD 5,000 and then at USD 10,000, USD 15000, and samll peaks at USD 20000, USD 25,000. This is since loans are granted in denominations of 5000.\n",
    "2. Majority applications applied for a loan amount of less than USD 10,000\n"
   ]
  },
  {
   "cell_type": "markdown",
   "metadata": {},
   "source": [
    "#### Question\n",
    "What is the distibution for DebtToIncomeRatio?"
   ]
  },
  {
   "cell_type": "code",
   "execution_count": 18,
   "metadata": {},
   "outputs": [
    {
     "data": {
      "text/plain": [
       "count    105358.000000\n",
       "mean          0.275993\n",
       "std           0.551814\n",
       "min           0.000000\n",
       "25%           0.140000\n",
       "50%           0.220000\n",
       "75%           0.320000\n",
       "max          10.010000\n",
       "Name: DebtToIncomeRatio, dtype: float64"
      ]
     },
     "execution_count": 18,
     "metadata": {},
     "output_type": "execute_result"
    }
   ],
   "source": [
    "loans_subset.DebtToIncomeRatio.describe()"
   ]
  },
  {
   "cell_type": "markdown",
   "metadata": {},
   "source": [
    "There are some missing values in DebtToIncomeRatio. We will remove those values."
   ]
  },
  {
   "cell_type": "code",
   "execution_count": 19,
   "metadata": {},
   "outputs": [],
   "source": [
    "loans_subset = loans_subset[loans_subset['DebtToIncomeRatio'].notna()]"
   ]
  },
  {
   "cell_type": "code",
   "execution_count": 20,
   "metadata": {},
   "outputs": [
    {
     "data": {
      "text/html": [
       "<div>\n",
       "<style scoped>\n",
       "    .dataframe tbody tr th:only-of-type {\n",
       "        vertical-align: middle;\n",
       "    }\n",
       "\n",
       "    .dataframe tbody tr th {\n",
       "        vertical-align: top;\n",
       "    }\n",
       "\n",
       "    .dataframe thead th {\n",
       "        text-align: right;\n",
       "    }\n",
       "</style>\n",
       "<table border=\"1\" class=\"dataframe\">\n",
       "  <thead>\n",
       "    <tr style=\"text-align: right;\">\n",
       "      <th></th>\n",
       "      <th>LoanKey</th>\n",
       "      <th>LoanStatus</th>\n",
       "      <th>BorrowerAPR</th>\n",
       "      <th>CreditGrade</th>\n",
       "      <th>ProsperRating (Alpha)</th>\n",
       "      <th>ListingCategory (numeric)</th>\n",
       "      <th>Occupation</th>\n",
       "      <th>EmploymentStatus</th>\n",
       "      <th>DebtToIncomeRatio</th>\n",
       "      <th>StatedMonthlyIncome</th>\n",
       "      <th>IncomeVerifiable</th>\n",
       "      <th>LoanOriginationDate</th>\n",
       "      <th>LoanOriginalAmount</th>\n",
       "      <th>Term</th>\n",
       "      <th>OpenRevolvingMonthlyPayment</th>\n",
       "      <th>TradesNeverDelinquent (percentage)</th>\n",
       "    </tr>\n",
       "  </thead>\n",
       "  <tbody>\n",
       "    <tr>\n",
       "      <th>0</th>\n",
       "      <td>E33A3400205839220442E84</td>\n",
       "      <td>Completed</td>\n",
       "      <td>0.16516</td>\n",
       "      <td>C</td>\n",
       "      <td>NaN</td>\n",
       "      <td>0</td>\n",
       "      <td>Other</td>\n",
       "      <td>Self-employed</td>\n",
       "      <td>0.17</td>\n",
       "      <td>3083.333333</td>\n",
       "      <td>True</td>\n",
       "      <td>2007-09-12 00:00:00</td>\n",
       "      <td>9425</td>\n",
       "      <td>36</td>\n",
       "      <td>24.0</td>\n",
       "      <td>0.81</td>\n",
       "    </tr>\n",
       "    <tr>\n",
       "      <th>1</th>\n",
       "      <td>9E3B37071505919926B1D82</td>\n",
       "      <td>Current</td>\n",
       "      <td>0.12016</td>\n",
       "      <td>NaN</td>\n",
       "      <td>A</td>\n",
       "      <td>2</td>\n",
       "      <td>Professional</td>\n",
       "      <td>Employed</td>\n",
       "      <td>0.18</td>\n",
       "      <td>6125.000000</td>\n",
       "      <td>True</td>\n",
       "      <td>2014-03-03 00:00:00</td>\n",
       "      <td>10000</td>\n",
       "      <td>36</td>\n",
       "      <td>389.0</td>\n",
       "      <td>1.00</td>\n",
       "    </tr>\n",
       "    <tr>\n",
       "      <th>2</th>\n",
       "      <td>6954337960046817851BCB2</td>\n",
       "      <td>Completed</td>\n",
       "      <td>0.28269</td>\n",
       "      <td>HR</td>\n",
       "      <td>NaN</td>\n",
       "      <td>0</td>\n",
       "      <td>Other</td>\n",
       "      <td>Not available</td>\n",
       "      <td>0.06</td>\n",
       "      <td>2083.333333</td>\n",
       "      <td>True</td>\n",
       "      <td>2007-01-17 00:00:00</td>\n",
       "      <td>3001</td>\n",
       "      <td>36</td>\n",
       "      <td>0.0</td>\n",
       "      <td>NaN</td>\n",
       "    </tr>\n",
       "    <tr>\n",
       "      <th>3</th>\n",
       "      <td>A0393664465886295619C51</td>\n",
       "      <td>Current</td>\n",
       "      <td>0.12528</td>\n",
       "      <td>NaN</td>\n",
       "      <td>A</td>\n",
       "      <td>16</td>\n",
       "      <td>Skilled Labor</td>\n",
       "      <td>Employed</td>\n",
       "      <td>0.15</td>\n",
       "      <td>2875.000000</td>\n",
       "      <td>True</td>\n",
       "      <td>2012-11-01 00:00:00</td>\n",
       "      <td>10000</td>\n",
       "      <td>36</td>\n",
       "      <td>115.0</td>\n",
       "      <td>0.76</td>\n",
       "    </tr>\n",
       "    <tr>\n",
       "      <th>4</th>\n",
       "      <td>A180369302188889200689E</td>\n",
       "      <td>Current</td>\n",
       "      <td>0.24614</td>\n",
       "      <td>NaN</td>\n",
       "      <td>D</td>\n",
       "      <td>2</td>\n",
       "      <td>Executive</td>\n",
       "      <td>Employed</td>\n",
       "      <td>0.26</td>\n",
       "      <td>9583.333333</td>\n",
       "      <td>True</td>\n",
       "      <td>2013-09-20 00:00:00</td>\n",
       "      <td>15000</td>\n",
       "      <td>36</td>\n",
       "      <td>220.0</td>\n",
       "      <td>0.95</td>\n",
       "    </tr>\n",
       "  </tbody>\n",
       "</table>\n",
       "</div>"
      ],
      "text/plain": [
       "                   LoanKey LoanStatus  BorrowerAPR CreditGrade  \\\n",
       "0  E33A3400205839220442E84  Completed      0.16516           C   \n",
       "1  9E3B37071505919926B1D82    Current      0.12016         NaN   \n",
       "2  6954337960046817851BCB2  Completed      0.28269          HR   \n",
       "3  A0393664465886295619C51    Current      0.12528         NaN   \n",
       "4  A180369302188889200689E    Current      0.24614         NaN   \n",
       "\n",
       "  ProsperRating (Alpha)  ListingCategory (numeric)     Occupation  \\\n",
       "0                   NaN                          0          Other   \n",
       "1                     A                          2   Professional   \n",
       "2                   NaN                          0          Other   \n",
       "3                     A                         16  Skilled Labor   \n",
       "4                     D                          2      Executive   \n",
       "\n",
       "  EmploymentStatus  DebtToIncomeRatio  StatedMonthlyIncome  IncomeVerifiable  \\\n",
       "0    Self-employed               0.17          3083.333333              True   \n",
       "1         Employed               0.18          6125.000000              True   \n",
       "2    Not available               0.06          2083.333333              True   \n",
       "3         Employed               0.15          2875.000000              True   \n",
       "4         Employed               0.26          9583.333333              True   \n",
       "\n",
       "   LoanOriginationDate  LoanOriginalAmount  Term  OpenRevolvingMonthlyPayment  \\\n",
       "0  2007-09-12 00:00:00                9425    36                         24.0   \n",
       "1  2014-03-03 00:00:00               10000    36                        389.0   \n",
       "2  2007-01-17 00:00:00                3001    36                          0.0   \n",
       "3  2012-11-01 00:00:00               10000    36                        115.0   \n",
       "4  2013-09-20 00:00:00               15000    36                        220.0   \n",
       "\n",
       "   TradesNeverDelinquent (percentage)  \n",
       "0                                0.81  \n",
       "1                                1.00  \n",
       "2                                 NaN  \n",
       "3                                0.76  \n",
       "4                                0.95  "
      ]
     },
     "execution_count": 20,
     "metadata": {},
     "output_type": "execute_result"
    }
   ],
   "source": [
    "loans_subset.head()"
   ]
  },
  {
   "cell_type": "markdown",
   "metadata": {},
   "source": [
    "A debt to income ratio of 1 suggests that the amount of loan taken by a borrower and the income earned by the borrower for the period in consideration are same. Only if the debt to income ratio is high, there will a higher risk as borrower has borrowed than his repaying capacity.Hence, we will examine the data in separate graphs for debt to income ratio less than 1 and where all ratios are present"
   ]
  },
  {
   "cell_type": "markdown",
   "metadata": {},
   "source": [
    "#### Visualization"
   ]
  },
  {
   "cell_type": "code",
   "execution_count": 21,
   "metadata": {},
   "outputs": [
    {
     "data": {
      "text/plain": [
       "Text(0, 0.5, 'Count')"
      ]
     },
     "execution_count": 21,
     "metadata": {},
     "output_type": "execute_result"
    },
    {
     "data": {
      "image/png": "[encoded data removed]",
      "text/plain": [
       "<Figure size 1008x864 with 1 Axes>"
      ]
     },
     "metadata": {
      "needs_background": "light"
     },
     "output_type": "display_data"
    }
   ],
   "source": [
    "DTIR_max = loans_subset.DebtToIncomeRatio.max()\n",
    "bin_width = 0.01\n",
    "bins = np.arange(0, DTIR_max+bin_width, bin_width)\n",
    "plt.hist(data=loans_subset, x='DebtToIncomeRatio', bins=bins);\n",
    "plt.axvline(loans_subset['DebtToIncomeRatio'].mean(), color='red', linestyle='dashed', linewidth=2)\n",
    "plt.xlim((0,1));\n",
    "plt.xlabel('Debt To Income Ratio')\n",
    "plt.ylabel('Count')"
   ]
  },
  {
   "cell_type": "code",
   "execution_count": 22,
   "metadata": {},
   "outputs": [
    {
     "data": {
      "text/plain": [
       "Text(0, 0.5, 'Count')"
      ]
     },
     "execution_count": 22,
     "metadata": {},
     "output_type": "execute_result"
    },
    {
     "data": {
      "image/png": "[encoded data removed]",
      "text/plain": [
       "<Figure size 1008x864 with 1 Axes>"
      ]
     },
     "metadata": {
      "needs_background": "light"
     },
     "output_type": "display_data"
    }
   ],
   "source": [
    "DTIR_max = loans_subset.DebtToIncomeRatio.max()\n",
    "bin_width = 0.01\n",
    "bins = np.arange(0, DTIR_max+bin_width, bin_width)\n",
    "plt.hist(data=loans_subset, x='DebtToIncomeRatio', bins=bins);\n",
    "plt.xlabel('Debt To Income Ratio')\n",
    "plt.ylabel('Count')"
   ]
  },
  {
   "cell_type": "markdown",
   "metadata": {},
   "source": [
    "#### Observations\n",
    "1. We observe from the above graphs that the distribution of Debt to Income ratio is right skewed.\n",
    "2. The mean is around 0.3 suggesting that majority borrowers who applied for loan value have a debt to income percentage of 30%"
   ]
  },
  {
   "cell_type": "markdown",
   "metadata": {},
   "source": [
    "### Loan Status\n",
    "Next we examine the Loan Status which is a categorical variable, Hence we will use a bar chart, to check the frequency of each category"
   ]
  },
  {
   "cell_type": "markdown",
   "metadata": {},
   "source": [
    "#### Question\n",
    "\n",
    "What proportion of borrowers repaid the loans.What is general repayment behaviour?\n",
    "\n",
    "\n",
    "#### Visualization:"
   ]
  },
  {
   "cell_type": "markdown",
   "metadata": {},
   "source": [
    "Let's first check the value_counts of each category of loan status"
   ]
  },
  {
   "cell_type": "code",
   "execution_count": 23,
   "metadata": {},
   "outputs": [
    {
     "data": {
      "text/plain": [
       "Current                   52478\n",
       "Completed                 35315\n",
       "Chargedoff                10751\n",
       "Defaulted                  4763\n",
       "Past Due (1-15 days)        722\n",
       "Past Due (31-60 days)       327\n",
       "Past Due (91-120 days)      277\n",
       "Past Due (61-90 days)       275\n",
       "Past Due (16-30 days)       242\n",
       "FinalPaymentInProgress      189\n",
       "Past Due (>120 days)         14\n",
       "Cancelled                     5\n",
       "Name: LoanStatus, dtype: int64"
      ]
     },
     "execution_count": 23,
     "metadata": {},
     "output_type": "execute_result"
    }
   ],
   "source": [
    "loans_subset.LoanStatus.value_counts()"
   ]
  },
  {
   "cell_type": "code",
   "execution_count": 24,
   "metadata": {},
   "outputs": [],
   "source": [
    "# Let's update all cells containing 'past due' values as Past Due, removing the number of days past due date.\n",
    "\n",
    "loans_subset.loc[loans_subset.LoanStatus.str.contains('Past Due '), 'LoanStatus'] = 'Past Due'\n"
   ]
  },
  {
   "cell_type": "code",
   "execution_count": 25,
   "metadata": {},
   "outputs": [
    {
     "data": {
      "image/png": "[encoded data removed]",
      "text/plain": [
       "<Figure size 1008x864 with 1 Axes>"
      ]
     },
     "metadata": {
      "needs_background": "light"
     },
     "output_type": "display_data"
    }
   ],
   "source": [
    "n_loans = loans_subset.shape[0]\n",
    "status_count = loans_subset.LoanStatus.value_counts()\n",
    "status_order = status_count.index\n",
    "base_color = sb.color_palette()[0]\n",
    "sb.countplot(data=loans_subset, y='LoanStatus', color=base_color, order=status_order);\n",
    "\n",
    "## Logic to print the proportion text on the bars\n",
    "for i in range (status_count.shape[0]):\n",
    "    # Remember, type_counts contains the frequency of unique values in the `type` column in decreasing order.\n",
    "    count = status_count[i]\n",
    "    # Convert count into a percentage, and then into string\n",
    "    pct_string = '{:0.1f}%'.format(100*count/n_loans)\n",
    "    # Print the string value on the bar. \n",
    "    # Read more about the arguments of text() function [here](https://matplotlib.org/3.1.1/api/_as_gen/matplotlib.pyplot.text.html)\n",
    "    plt.text(count+1, i, pct_string, va='center')"
   ]
  },
  {
   "cell_type": "markdown",
   "metadata": {},
   "source": [
    "#### Observations:"
   ]
  },
  {
   "cell_type": "markdown",
   "metadata": {},
   "source": [
    "\n",
    "1. Default Rate : 4.5%. The specific threshold for a \"good\" default rate can vary depending on the industry and risk tolerance. A default rate below 5% or even 3% is often considered good.This metric is within acceptable rate.\n",
    "2. Charge-off Rate : 10.2%.The charge-off rate represents the percentage of loans that are deemed uncollectible and written off as losses. A charge-off rate below 2% or 3% is often considered good.However, this is way higher than the accepatble rate."
   ]
  },
  {
   "cell_type": "markdown",
   "metadata": {},
   "source": [
    "we can examine the data for borrowers whose loans where charged off to find the reasons for non-payment"
   ]
  },
  {
   "cell_type": "code",
   "execution_count": 26,
   "metadata": {},
   "outputs": [],
   "source": [
    "loans_subset_c = loans_subset.query('LoanStatus == \"Chargedoff\"')"
   ]
  },
  {
   "cell_type": "markdown",
   "metadata": {},
   "source": [
    "### Rating\n",
    "Next we will examine the \"Rating\". As we know from the variable definitions :\n",
    "    1. CreditGrade : The Credit rating that was assigned at the time the listing went live. Applicable for listings pre-2009 period and will only be populated for those listings.\n",
    "    2. ProsperRating (Alpha) - The Prosper Rating assigned at the time the listing was created between AA - HR.  Applicable for loans originated after July 2009.\n",
    "We can merge the two columns into one - 'Rating' to maximise our non-null values in the column, since both provide rating of the borrower.\n",
    "\n",
    "Also, Rating is a categorical - ordinal variable."
   ]
  },
  {
   "cell_type": "markdown",
   "metadata": {},
   "source": [
    "#### Question\n",
    "How's borrower rating  distributed?"
   ]
  },
  {
   "cell_type": "code",
   "execution_count": 27,
   "metadata": {},
   "outputs": [],
   "source": [
    "loans_subset.loc[:,['CreditGrade', 'ProsperRating (Alpha)']] = loans_subset[['CreditGrade', 'ProsperRating (Alpha)']].fillna('')"
   ]
  },
  {
   "cell_type": "code",
   "execution_count": 28,
   "metadata": {},
   "outputs": [
    {
     "name": "stderr",
     "output_type": "stream",
     "text": [
      "/var/folders/w0/nbsnlqqd60s_jl5jwcqh9d7r0000gn/T/ipykernel_22985/558765928.py:1: SettingWithCopyWarning: \n",
      "A value is trying to be set on a copy of a slice from a DataFrame.\n",
      "Try using .loc[row_indexer,col_indexer] = value instead\n",
      "\n",
      "See the caveats in the documentation: https://pandas.pydata.org/pandas-docs/stable/user_guide/indexing.html#returning-a-view-versus-a-copy\n",
      "  loans_subset_c.loc[:,['CreditGrade', 'ProsperRating (Alpha)']] = loans_subset_c[['CreditGrade', 'ProsperRating (Alpha)']].fillna('')\n"
     ]
    }
   ],
   "source": [
    "loans_subset_c.loc[:,['CreditGrade', 'ProsperRating (Alpha)']] = loans_subset_c[['CreditGrade', 'ProsperRating (Alpha)']].fillna('')"
   ]
  },
  {
   "cell_type": "code",
   "execution_count": 29,
   "metadata": {},
   "outputs": [
    {
     "data": {
      "text/plain": [
       "0"
      ]
     },
     "execution_count": 29,
     "metadata": {},
     "output_type": "execute_result"
    }
   ],
   "source": [
    "loans_subset.CreditGrade.isna().sum()"
   ]
  },
  {
   "cell_type": "code",
   "execution_count": 30,
   "metadata": {},
   "outputs": [
    {
     "data": {
      "text/plain": [
       "0"
      ]
     },
     "execution_count": 30,
     "metadata": {},
     "output_type": "execute_result"
    }
   ],
   "source": [
    "loans_subset_c.CreditGrade.isna().sum()"
   ]
  },
  {
   "cell_type": "code",
   "execution_count": 31,
   "metadata": {},
   "outputs": [
    {
     "data": {
      "text/plain": [
       "0"
      ]
     },
     "execution_count": 31,
     "metadata": {},
     "output_type": "execute_result"
    }
   ],
   "source": [
    "loans_subset['ProsperRating (Alpha)'].isna().sum()"
   ]
  },
  {
   "cell_type": "code",
   "execution_count": 32,
   "metadata": {},
   "outputs": [
    {
     "data": {
      "text/plain": [
       "0"
      ]
     },
     "execution_count": 32,
     "metadata": {},
     "output_type": "execute_result"
    }
   ],
   "source": [
    "loans_subset_c['ProsperRating (Alpha)'].isna().sum()"
   ]
  },
  {
   "cell_type": "code",
   "execution_count": 33,
   "metadata": {},
   "outputs": [],
   "source": [
    "loans_subset.loc[:, 'Rating'] = loans_subset['CreditGrade'] + loans_subset['ProsperRating (Alpha)']"
   ]
  },
  {
   "cell_type": "code",
   "execution_count": 34,
   "metadata": {},
   "outputs": [
    {
     "name": "stderr",
     "output_type": "stream",
     "text": [
      "/var/folders/w0/nbsnlqqd60s_jl5jwcqh9d7r0000gn/T/ipykernel_22985/4257912245.py:1: SettingWithCopyWarning: \n",
      "A value is trying to be set on a copy of a slice from a DataFrame.\n",
      "Try using .loc[row_indexer,col_indexer] = value instead\n",
      "\n",
      "See the caveats in the documentation: https://pandas.pydata.org/pandas-docs/stable/user_guide/indexing.html#returning-a-view-versus-a-copy\n",
      "  loans_subset_c.loc[:, 'Rating'] = loans_subset_c['CreditGrade'] + loans_subset_c['ProsperRating (Alpha)']\n"
     ]
    }
   ],
   "source": [
    "loans_subset_c.loc[:, 'Rating'] = loans_subset_c['CreditGrade'] + loans_subset_c['ProsperRating (Alpha)']"
   ]
  },
  {
   "cell_type": "code",
   "execution_count": 35,
   "metadata": {},
   "outputs": [
    {
     "data": {
      "text/plain": [
       "C     22365\n",
       "B     18737\n",
       "D     17846\n",
       "A     16829\n",
       "E     11835\n",
       "HR     9162\n",
       "AA     8385\n",
       "        120\n",
       "NC       79\n",
       "Name: Rating, dtype: int64"
      ]
     },
     "execution_count": 35,
     "metadata": {},
     "output_type": "execute_result"
    }
   ],
   "source": [
    "loans_subset.Rating.value_counts()"
   ]
  },
  {
   "cell_type": "code",
   "execution_count": 36,
   "metadata": {},
   "outputs": [
    {
     "data": {
      "text/plain": [
       "D     2449\n",
       "HR    2159\n",
       "C     1867\n",
       "E     1848\n",
       "B     1291\n",
       "A      775\n",
       "AA     340\n",
       "NC      18\n",
       "         4\n",
       "Name: Rating, dtype: int64"
      ]
     },
     "execution_count": 36,
     "metadata": {},
     "output_type": "execute_result"
    }
   ],
   "source": [
    "loans_subset_c.Rating.value_counts()"
   ]
  },
  {
   "cell_type": "markdown",
   "metadata": {},
   "source": [
    "NC means No Credit, this is for people with no Credit History."
   ]
  },
  {
   "cell_type": "markdown",
   "metadata": {},
   "source": [
    "Drop rows where rating is missing or NC and plot the rest "
   ]
  },
  {
   "cell_type": "code",
   "execution_count": 37,
   "metadata": {},
   "outputs": [
    {
     "data": {
      "text/plain": [
       "C     22365\n",
       "B     18737\n",
       "D     17846\n",
       "A     16829\n",
       "E     11835\n",
       "HR     9162\n",
       "AA     8385\n",
       "Name: Rating, dtype: int64"
      ]
     },
     "execution_count": 37,
     "metadata": {},
     "output_type": "execute_result"
    }
   ],
   "source": [
    "loans_subset = loans_subset[(loans_subset['Rating'] != \"\") & (loans_subset['Rating'] != \"NC\")]\n",
    "loans_subset.Rating.value_counts()"
   ]
  },
  {
   "cell_type": "code",
   "execution_count": 39,
   "metadata": {},
   "outputs": [
    {
     "data": {
      "text/plain": [
       "D     2449\n",
       "HR    2159\n",
       "C     1867\n",
       "E     1848\n",
       "B     1291\n",
       "A      775\n",
       "AA     340\n",
       "Name: Rating, dtype: int64"
      ]
     },
     "execution_count": 39,
     "metadata": {},
     "output_type": "execute_result"
    }
   ],
   "source": [
    "loans_subset_c =loans_subset_c[(loans_subset_c['Rating'] != \"\") & (loans_subset_c['Rating'] != \"NC\")]\n",
    "loans_subset_c.Rating.value_counts()"
   ]
  },
  {
   "cell_type": "code",
   "execution_count": 41,
   "metadata": {},
   "outputs": [
    {
     "data": {
      "text/html": [
       "<div>\n",
       "<style scoped>\n",
       "    .dataframe tbody tr th:only-of-type {\n",
       "        vertical-align: middle;\n",
       "    }\n",
       "\n",
       "    .dataframe tbody tr th {\n",
       "        vertical-align: top;\n",
       "    }\n",
       "\n",
       "    .dataframe thead th {\n",
       "        text-align: right;\n",
       "    }\n",
       "</style>\n",
       "<table border=\"1\" class=\"dataframe\">\n",
       "  <thead>\n",
       "    <tr style=\"text-align: right;\">\n",
       "      <th></th>\n",
       "      <th>LoanKey</th>\n",
       "      <th>LoanStatus</th>\n",
       "      <th>BorrowerAPR</th>\n",
       "      <th>ListingCategory (numeric)</th>\n",
       "      <th>Occupation</th>\n",
       "      <th>EmploymentStatus</th>\n",
       "      <th>DebtToIncomeRatio</th>\n",
       "      <th>StatedMonthlyIncome</th>\n",
       "      <th>IncomeVerifiable</th>\n",
       "      <th>LoanOriginationDate</th>\n",
       "      <th>LoanOriginalAmount</th>\n",
       "      <th>Term</th>\n",
       "      <th>OpenRevolvingMonthlyPayment</th>\n",
       "      <th>TradesNeverDelinquent (percentage)</th>\n",
       "      <th>Rating</th>\n",
       "    </tr>\n",
       "  </thead>\n",
       "  <tbody>\n",
       "    <tr>\n",
       "      <th>0</th>\n",
       "      <td>E33A3400205839220442E84</td>\n",
       "      <td>Completed</td>\n",
       "      <td>0.16516</td>\n",
       "      <td>0</td>\n",
       "      <td>Other</td>\n",
       "      <td>Self-employed</td>\n",
       "      <td>0.17</td>\n",
       "      <td>3083.333333</td>\n",
       "      <td>True</td>\n",
       "      <td>2007-09-12 00:00:00</td>\n",
       "      <td>9425</td>\n",
       "      <td>36</td>\n",
       "      <td>24.0</td>\n",
       "      <td>0.81</td>\n",
       "      <td>C</td>\n",
       "    </tr>\n",
       "    <tr>\n",
       "      <th>1</th>\n",
       "      <td>9E3B37071505919926B1D82</td>\n",
       "      <td>Current</td>\n",
       "      <td>0.12016</td>\n",
       "      <td>2</td>\n",
       "      <td>Professional</td>\n",
       "      <td>Employed</td>\n",
       "      <td>0.18</td>\n",
       "      <td>6125.000000</td>\n",
       "      <td>True</td>\n",
       "      <td>2014-03-03 00:00:00</td>\n",
       "      <td>10000</td>\n",
       "      <td>36</td>\n",
       "      <td>389.0</td>\n",
       "      <td>1.00</td>\n",
       "      <td>A</td>\n",
       "    </tr>\n",
       "    <tr>\n",
       "      <th>2</th>\n",
       "      <td>6954337960046817851BCB2</td>\n",
       "      <td>Completed</td>\n",
       "      <td>0.28269</td>\n",
       "      <td>0</td>\n",
       "      <td>Other</td>\n",
       "      <td>Not available</td>\n",
       "      <td>0.06</td>\n",
       "      <td>2083.333333</td>\n",
       "      <td>True</td>\n",
       "      <td>2007-01-17 00:00:00</td>\n",
       "      <td>3001</td>\n",
       "      <td>36</td>\n",
       "      <td>0.0</td>\n",
       "      <td>NaN</td>\n",
       "      <td>HR</td>\n",
       "    </tr>\n",
       "    <tr>\n",
       "      <th>3</th>\n",
       "      <td>A0393664465886295619C51</td>\n",
       "      <td>Current</td>\n",
       "      <td>0.12528</td>\n",
       "      <td>16</td>\n",
       "      <td>Skilled Labor</td>\n",
       "      <td>Employed</td>\n",
       "      <td>0.15</td>\n",
       "      <td>2875.000000</td>\n",
       "      <td>True</td>\n",
       "      <td>2012-11-01 00:00:00</td>\n",
       "      <td>10000</td>\n",
       "      <td>36</td>\n",
       "      <td>115.0</td>\n",
       "      <td>0.76</td>\n",
       "      <td>A</td>\n",
       "    </tr>\n",
       "    <tr>\n",
       "      <th>4</th>\n",
       "      <td>A180369302188889200689E</td>\n",
       "      <td>Current</td>\n",
       "      <td>0.24614</td>\n",
       "      <td>2</td>\n",
       "      <td>Executive</td>\n",
       "      <td>Employed</td>\n",
       "      <td>0.26</td>\n",
       "      <td>9583.333333</td>\n",
       "      <td>True</td>\n",
       "      <td>2013-09-20 00:00:00</td>\n",
       "      <td>15000</td>\n",
       "      <td>36</td>\n",
       "      <td>220.0</td>\n",
       "      <td>0.95</td>\n",
       "      <td>D</td>\n",
       "    </tr>\n",
       "  </tbody>\n",
       "</table>\n",
       "</div>"
      ],
      "text/plain": [
       "                   LoanKey LoanStatus  BorrowerAPR  ListingCategory (numeric)  \\\n",
       "0  E33A3400205839220442E84  Completed      0.16516                          0   \n",
       "1  9E3B37071505919926B1D82    Current      0.12016                          2   \n",
       "2  6954337960046817851BCB2  Completed      0.28269                          0   \n",
       "3  A0393664465886295619C51    Current      0.12528                         16   \n",
       "4  A180369302188889200689E    Current      0.24614                          2   \n",
       "\n",
       "      Occupation EmploymentStatus  DebtToIncomeRatio  StatedMonthlyIncome  \\\n",
       "0          Other    Self-employed               0.17          3083.333333   \n",
       "1   Professional         Employed               0.18          6125.000000   \n",
       "2          Other    Not available               0.06          2083.333333   \n",
       "3  Skilled Labor         Employed               0.15          2875.000000   \n",
       "4      Executive         Employed               0.26          9583.333333   \n",
       "\n",
       "   IncomeVerifiable  LoanOriginationDate  LoanOriginalAmount  Term  \\\n",
       "0              True  2007-09-12 00:00:00                9425    36   \n",
       "1              True  2014-03-03 00:00:00               10000    36   \n",
       "2              True  2007-01-17 00:00:00                3001    36   \n",
       "3              True  2012-11-01 00:00:00               10000    36   \n",
       "4              True  2013-09-20 00:00:00               15000    36   \n",
       "\n",
       "   OpenRevolvingMonthlyPayment  TradesNeverDelinquent (percentage) Rating  \n",
       "0                         24.0                                0.81      C  \n",
       "1                        389.0                                1.00      A  \n",
       "2                          0.0                                 NaN     HR  \n",
       "3                        115.0                                0.76      A  \n",
       "4                        220.0                                0.95      D  "
      ]
     },
     "execution_count": 41,
     "metadata": {},
     "output_type": "execute_result"
    }
   ],
   "source": [
    "# Drop columns - CreditGrade, ProsperRating (Alpha)\n",
    "loans_subset = loans_subset.drop(['CreditGrade', 'ProsperRating (Alpha)'], axis=1)\n",
    "loans_subset.head()"
   ]
  },
  {
   "cell_type": "code",
   "execution_count": 40,
   "metadata": {},
   "outputs": [
    {
     "data": {
      "text/html": [
       "<div>\n",
       "<style scoped>\n",
       "    .dataframe tbody tr th:only-of-type {\n",
       "        vertical-align: middle;\n",
       "    }\n",
       "\n",
       "    .dataframe tbody tr th {\n",
       "        vertical-align: top;\n",
       "    }\n",
       "\n",
       "    .dataframe thead th {\n",
       "        text-align: right;\n",
       "    }\n",
       "</style>\n",
       "<table border=\"1\" class=\"dataframe\">\n",
       "  <thead>\n",
       "    <tr style=\"text-align: right;\">\n",
       "      <th></th>\n",
       "      <th>LoanKey</th>\n",
       "      <th>LoanStatus</th>\n",
       "      <th>BorrowerAPR</th>\n",
       "      <th>ListingCategory (numeric)</th>\n",
       "      <th>Occupation</th>\n",
       "      <th>EmploymentStatus</th>\n",
       "      <th>DebtToIncomeRatio</th>\n",
       "      <th>StatedMonthlyIncome</th>\n",
       "      <th>IncomeVerifiable</th>\n",
       "      <th>LoanOriginationDate</th>\n",
       "      <th>LoanOriginalAmount</th>\n",
       "      <th>Term</th>\n",
       "      <th>OpenRevolvingMonthlyPayment</th>\n",
       "      <th>TradesNeverDelinquent (percentage)</th>\n",
       "      <th>Rating</th>\n",
       "    </tr>\n",
       "  </thead>\n",
       "  <tbody>\n",
       "    <tr>\n",
       "      <th>17</th>\n",
       "      <td>51453366538336630763636</td>\n",
       "      <td>Chargedoff</td>\n",
       "      <td>0.13202</td>\n",
       "      <td>0</td>\n",
       "      <td>Professional</td>\n",
       "      <td>Not available</td>\n",
       "      <td>0.12</td>\n",
       "      <td>5833.333333</td>\n",
       "      <td>True</td>\n",
       "      <td>2006-08-22 00:00:00</td>\n",
       "      <td>10000</td>\n",
       "      <td>36</td>\n",
       "      <td>346.0</td>\n",
       "      <td>NaN</td>\n",
       "      <td>AA</td>\n",
       "    </tr>\n",
       "    <tr>\n",
       "      <th>42</th>\n",
       "      <td>2D433381278297817311230</td>\n",
       "      <td>Chargedoff</td>\n",
       "      <td>0.30300</td>\n",
       "      <td>0</td>\n",
       "      <td>Other</td>\n",
       "      <td>Not available</td>\n",
       "      <td>0.27</td>\n",
       "      <td>416.666667</td>\n",
       "      <td>True</td>\n",
       "      <td>2007-02-09 00:00:00</td>\n",
       "      <td>1500</td>\n",
       "      <td>36</td>\n",
       "      <td>0.0</td>\n",
       "      <td>NaN</td>\n",
       "      <td>HR</td>\n",
       "    </tr>\n",
       "    <tr>\n",
       "      <th>57</th>\n",
       "      <td>3F2936403268585514E9BDD</td>\n",
       "      <td>Chargedoff</td>\n",
       "      <td>0.29394</td>\n",
       "      <td>1</td>\n",
       "      <td>Construction</td>\n",
       "      <td>Employed</td>\n",
       "      <td>0.15</td>\n",
       "      <td>9166.666667</td>\n",
       "      <td>True</td>\n",
       "      <td>2012-01-20 00:00:00</td>\n",
       "      <td>2000</td>\n",
       "      <td>36</td>\n",
       "      <td>331.0</td>\n",
       "      <td>0.96</td>\n",
       "      <td>D</td>\n",
       "    </tr>\n",
       "    <tr>\n",
       "      <th>62</th>\n",
       "      <td>0378338759198235096D61F</td>\n",
       "      <td>Chargedoff</td>\n",
       "      <td>0.23748</td>\n",
       "      <td>0</td>\n",
       "      <td>Other</td>\n",
       "      <td>Full-time</td>\n",
       "      <td>0.59</td>\n",
       "      <td>3891.666667</td>\n",
       "      <td>True</td>\n",
       "      <td>2007-04-26 00:00:00</td>\n",
       "      <td>23500</td>\n",
       "      <td>36</td>\n",
       "      <td>1402.0</td>\n",
       "      <td>1.00</td>\n",
       "      <td>D</td>\n",
       "    </tr>\n",
       "    <tr>\n",
       "      <th>74</th>\n",
       "      <td>1A213613553764272F57CA8</td>\n",
       "      <td>Chargedoff</td>\n",
       "      <td>0.35643</td>\n",
       "      <td>7</td>\n",
       "      <td>Fireman</td>\n",
       "      <td>Employed</td>\n",
       "      <td>0.21</td>\n",
       "      <td>5314.250000</td>\n",
       "      <td>True</td>\n",
       "      <td>2011-03-16 00:00:00</td>\n",
       "      <td>2500</td>\n",
       "      <td>36</td>\n",
       "      <td>52.0</td>\n",
       "      <td>0.70</td>\n",
       "      <td>E</td>\n",
       "    </tr>\n",
       "  </tbody>\n",
       "</table>\n",
       "</div>"
      ],
      "text/plain": [
       "                    LoanKey  LoanStatus  BorrowerAPR  \\\n",
       "17  51453366538336630763636  Chargedoff      0.13202   \n",
       "42  2D433381278297817311230  Chargedoff      0.30300   \n",
       "57  3F2936403268585514E9BDD  Chargedoff      0.29394   \n",
       "62  0378338759198235096D61F  Chargedoff      0.23748   \n",
       "74  1A213613553764272F57CA8  Chargedoff      0.35643   \n",
       "\n",
       "    ListingCategory (numeric)    Occupation EmploymentStatus  \\\n",
       "17                          0  Professional    Not available   \n",
       "42                          0         Other    Not available   \n",
       "57                          1  Construction         Employed   \n",
       "62                          0         Other        Full-time   \n",
       "74                          7       Fireman         Employed   \n",
       "\n",
       "    DebtToIncomeRatio  StatedMonthlyIncome  IncomeVerifiable  \\\n",
       "17               0.12          5833.333333              True   \n",
       "42               0.27           416.666667              True   \n",
       "57               0.15          9166.666667              True   \n",
       "62               0.59          3891.666667              True   \n",
       "74               0.21          5314.250000              True   \n",
       "\n",
       "    LoanOriginationDate  LoanOriginalAmount  Term  \\\n",
       "17  2006-08-22 00:00:00               10000    36   \n",
       "42  2007-02-09 00:00:00                1500    36   \n",
       "57  2012-01-20 00:00:00                2000    36   \n",
       "62  2007-04-26 00:00:00               23500    36   \n",
       "74  2011-03-16 00:00:00                2500    36   \n",
       "\n",
       "    OpenRevolvingMonthlyPayment  TradesNeverDelinquent (percentage) Rating  \n",
       "17                        346.0                                 NaN     AA  \n",
       "42                          0.0                                 NaN     HR  \n",
       "57                        331.0                                0.96      D  \n",
       "62                       1402.0                                1.00      D  \n",
       "74                         52.0                                0.70      E  "
      ]
     },
     "execution_count": 40,
     "metadata": {},
     "output_type": "execute_result"
    }
   ],
   "source": [
    "loans_subset_c = loans_subset_c.drop(['CreditGrade', 'ProsperRating (Alpha)'], axis=1)\n",
    "loans_subset_c.head()"
   ]
  },
  {
   "cell_type": "code",
   "execution_count": 42,
   "metadata": {},
   "outputs": [
    {
     "name": "stdout",
     "output_type": "stream",
     "text": [
      "<class 'pandas.core.frame.DataFrame'>\n",
      "Int64Index: 105159 entries, 0 to 113936\n",
      "Data columns (total 15 columns):\n",
      " #   Column                              Non-Null Count   Dtype   \n",
      "---  ------                              --------------   -----   \n",
      " 0   LoanKey                             105159 non-null  object  \n",
      " 1   LoanStatus                          105159 non-null  object  \n",
      " 2   BorrowerAPR                         105159 non-null  float64 \n",
      " 3   ListingCategory (numeric)           105159 non-null  int64   \n",
      " 4   Occupation                          101649 non-null  object  \n",
      " 5   EmploymentStatus                    102982 non-null  object  \n",
      " 6   DebtToIncomeRatio                   105159 non-null  float64 \n",
      " 7   StatedMonthlyIncome                 105159 non-null  float64 \n",
      " 8   IncomeVerifiable                    105159 non-null  bool    \n",
      " 9   LoanOriginationDate                 105159 non-null  object  \n",
      " 10  LoanOriginalAmount                  105159 non-null  int64   \n",
      " 11  Term                                105159 non-null  int64   \n",
      " 12  OpenRevolvingMonthlyPayment         105159 non-null  float64 \n",
      " 13  TradesNeverDelinquent (percentage)  97841 non-null   float64 \n",
      " 14  Rating                              105159 non-null  category\n",
      "dtypes: bool(1), category(1), float64(5), int64(3), object(5)\n",
      "memory usage: 15.5+ MB\n"
     ]
    }
   ],
   "source": [
    "# Converting the data type from object to category\n",
    "rating_order = ['HR', 'E', 'D', 'C', 'B', 'A', 'AA'] # low to high order\n",
    "ordered_var = pd.api.types.CategoricalDtype(categories = rating_order, ordered = True)\n",
    "loans_subset['Rating'] = loans_subset['Rating'].astype(ordered_var)\n",
    "loans_subset.info()"
   ]
  },
  {
   "cell_type": "code",
   "execution_count": 43,
   "metadata": {},
   "outputs": [
    {
     "name": "stdout",
     "output_type": "stream",
     "text": [
      "<class 'pandas.core.frame.DataFrame'>\n",
      "Int64Index: 10729 entries, 17 to 113905\n",
      "Data columns (total 15 columns):\n",
      " #   Column                              Non-Null Count  Dtype   \n",
      "---  ------                              --------------  -----   \n",
      " 0   LoanKey                             10729 non-null  object  \n",
      " 1   LoanStatus                          10729 non-null  object  \n",
      " 2   BorrowerAPR                         10729 non-null  float64 \n",
      " 3   ListingCategory (numeric)           10729 non-null  int64   \n",
      " 4   Occupation                          10445 non-null  object  \n",
      " 5   EmploymentStatus                    10445 non-null  object  \n",
      " 6   DebtToIncomeRatio                   10729 non-null  float64 \n",
      " 7   StatedMonthlyIncome                 10729 non-null  float64 \n",
      " 8   IncomeVerifiable                    10729 non-null  bool    \n",
      " 9   LoanOriginationDate                 10729 non-null  object  \n",
      " 10  LoanOriginalAmount                  10729 non-null  int64   \n",
      " 11  Term                                10729 non-null  int64   \n",
      " 12  OpenRevolvingMonthlyPayment         10729 non-null  float64 \n",
      " 13  TradesNeverDelinquent (percentage)  9433 non-null   float64 \n",
      " 14  Rating                              10729 non-null  category\n",
      "dtypes: bool(1), category(1), float64(5), int64(3), object(5)\n",
      "memory usage: 1.2+ MB\n"
     ]
    }
   ],
   "source": [
    "# Converting the data type from object to category\n",
    "rating_order = ['HR', 'E', 'D', 'C', 'B', 'A', 'AA'] # low to high order\n",
    "ordered_var = pd.api.types.CategoricalDtype(categories = rating_order, ordered = True)\n",
    "loans_subset_c['Rating'] = loans_subset_c['Rating'].astype(ordered_var)\n",
    "loans_subset_c.info()"
   ]
  },
  {
   "cell_type": "markdown",
   "metadata": {},
   "source": [
    "#### Visualization"
   ]
  },
  {
   "cell_type": "code",
   "execution_count": 44,
   "metadata": {},
   "outputs": [
    {
     "data": {
      "image/png": "[encoded data removed]",
      "text/plain": [
       "<Figure size 1008x864 with 1 Axes>"
      ]
     },
     "metadata": {
      "needs_background": "light"
     },
     "output_type": "display_data"
    }
   ],
   "source": [
    "base_color = sb.color_palette()[0]\n",
    "sb.countplot(data = loans_subset, x = 'Rating', color = base_color);\n",
    "plt.title('Ratings Distribution');"
   ]
  },
  {
   "cell_type": "markdown",
   "metadata": {},
   "source": [
    "#### Observations"
   ]
  },
  {
   "cell_type": "markdown",
   "metadata": {},
   "source": [
    "It seems that most borrowers are between the ratings, D - A."
   ]
  },
  {
   "cell_type": "code",
   "execution_count": 45,
   "metadata": {},
   "outputs": [
    {
     "data": {
      "image/png": "[encoded data removed]",
      "text/plain": [
       "<Figure size 1008x864 with 1 Axes>"
      ]
     },
     "metadata": {
      "needs_background": "light"
     },
     "output_type": "display_data"
    }
   ],
   "source": [
    "# Rating distribution for charged off loans\n",
    "base_color = sb.color_palette()[0]\n",
    "sb.countplot(data = loans_subset_c, x = 'Rating', color = base_color);\n",
    "plt.title('Ratings Distribution for charged off loans');"
   ]
  },
  {
   "cell_type": "markdown",
   "metadata": {},
   "source": [
    "#### Observations:\n",
    "From the bar chart for charged off loans, we can infer that majority ratings are below B."
   ]
  },
  {
   "cell_type": "markdown",
   "metadata": {},
   "source": [
    "#### Questions\n",
    "Which is the most common purpose of loan?"
   ]
  },
  {
   "cell_type": "code",
   "execution_count": 46,
   "metadata": {},
   "outputs": [
    {
     "data": {
      "text/plain": [
       "1     54567\n",
       "0     16535\n",
       "7      9509\n",
       "2      6949\n",
       "3      5190\n",
       "6      2356\n",
       "4      2271\n",
       "13     1788\n",
       "15     1404\n",
       "14      806\n",
       "18      788\n",
       "20      732\n",
       "19      722\n",
       "5       600\n",
       "16      289\n",
       "11      201\n",
       "8       191\n",
       "9        83\n",
       "10       82\n",
       "17       50\n",
       "12       46\n",
       "Name: ListingCategory (numeric), dtype: int64"
      ]
     },
     "execution_count": 46,
     "metadata": {},
     "output_type": "execute_result"
    }
   ],
   "source": [
    "loans_subset['ListingCategory (numeric)'].value_counts()\n"
   ]
  },
  {
   "cell_type": "markdown",
   "metadata": {},
   "source": [
    "#### Visualization"
   ]
  },
  {
   "cell_type": "markdown",
   "metadata": {},
   "source": [
    "Following are the different purpose for which loans are taken.Each category is assigned a respective number to it.\n",
    "0 - Not Available, <br>\n",
    "1 - Debt Consolidation, <br> \n",
    "2 - Home Improvement, <br>\n",
    "3 - Business, <br>\n",
    "4 - Personal Loan, <br> \n",
    "5 - Student Use, <br>\n",
    "6 - Auto, <br>\n",
    "7- Other, <br>\n",
    "8 - Baby&Adoption, <br>\n",
    "9 - Boat, <br>\n",
    "10 - Cosmetic Procedure, <br>\n",
    "11 - Engagement Ring, <br>\n",
    "12 - Green Loans, <br>\n",
    "13 - Household Expenses, <br>\n",
    "14 - Large Purchases, <br>\n",
    "15 - Medical/Dental, <br>\n",
    "16 - Motorcycle, <br>\n",
    "17 - RV, <br>\n",
    "18 - Taxes, <br>\n",
    "19 - Vacation, <br>\n",
    "20 - Wedding Loans"
   ]
  },
  {
   "cell_type": "code",
   "execution_count": 47,
   "metadata": {},
   "outputs": [
    {
     "data": {
      "text/plain": [
       "<matplotlib.legend.Legend at 0x7fa820c03100>"
      ]
     },
     "execution_count": 47,
     "metadata": {},
     "output_type": "execute_result"
    },
    {
     "data": {
      "image/png": "[encoded data removed]",
      "text/plain": [
       "<Figure size 720x576 with 1 Axes>"
      ]
     },
     "metadata": {
      "needs_background": "light"
     },
     "output_type": "display_data"
    }
   ],
   "source": [
    "labels = {0: 'Not Available', 1: 'Debt Consolidation', 2: 'Home Improvement', 3: 'Business', 4: 'Personal Loan', 5: 'Student Use', 6: 'Auto', 7: 'Other', 8: 'Baby&Adoption', 9: 'Boat', 10: 'Cosmetic Procedure', 11: 'Engagement Ring', 12: 'Green Loans', 13: 'Household Expenses', 14: 'Large Purchases', 15: 'Medical/Dental', 16: 'Motorcycle', 17: 'RV', 18: 'Taxes', 19: 'Vacation', 20: 'Wedding Loans'}\n",
    "\n",
    "plt.figure(figsize=(10, 8))\n",
    "custom_palette = sb.cubehelix_palette(n_colors=len(labels), start=2, rot=0, dark=0.2, light=.8, reverse=True)\n",
    "sb.countplot(data = loans_subset, x = 'ListingCategory (numeric)', palette = custom_palette)\n",
    "plt.title('Purpose of Loan')\n",
    "\n",
    "handles = [plt.Rectangle((0,0),1,1, color=custom_palette[i], ec=\"k\") for i in range(len(labels))]\n",
    "\n",
    "# Add the legend\n",
    "plt.legend(handles, labels.values(), title='Loan Purpose', loc='upper right')"
   ]
  },
  {
   "cell_type": "markdown",
   "metadata": {},
   "source": [
    "#### Observations\n",
    "\n",
    "From the bar chart titled Purpose of Loan, it can be observed that majority of the Loans were taken for repayment of other multiples debts, and second highest number of loans are taken for automobile purchase.\n"
   ]
  },
  {
   "cell_type": "code",
   "execution_count": 48,
   "metadata": {},
   "outputs": [
    {
     "data": {
      "text/plain": [
       "<matplotlib.legend.Legend at 0x7fa820c25400>"
      ]
     },
     "execution_count": 48,
     "metadata": {},
     "output_type": "execute_result"
    },
    {
     "data": {
      "image/png": "[encoded data removed]",
      "text/plain": [
       "<Figure size 720x576 with 1 Axes>"
      ]
     },
     "metadata": {
      "needs_background": "light"
     },
     "output_type": "display_data"
    }
   ],
   "source": [
    "# Common purpose of loan for charged off loan category\n",
    "labels = {0: 'Not Available', 1: 'Debt Consolidation', 2: 'Home Improvement', 3: 'Business', 4: 'Personal Loan', 5: 'Student Use', 6: 'Auto', 7: 'Other', 8: 'Baby&Adoption', 9: 'Boat', 10: 'Cosmetic Procedure', 11: 'Engagement Ring', 12: 'Green Loans', 13: 'Household Expenses', 14: 'Large Purchases', 15: 'Medical/Dental', 16: 'Motorcycle', 17: 'RV', 18: 'Taxes', 19: 'Vacation', 20: 'Wedding Loans'}\n",
    "\n",
    "plt.figure(figsize=(10, 8))\n",
    "custom_palette = sb.cubehelix_palette(n_colors=len(labels), start=2, rot=0, dark=0.2, light=.8, reverse=True)\n",
    "sb.countplot(data = loans_subset_c, x = 'ListingCategory (numeric)', palette = custom_palette)\n",
    "plt.title('Purpose of Loan')\n",
    "\n",
    "handles = [plt.Rectangle((0,0),1,1, color=custom_palette[i], ec=\"k\") for i in range(len(labels))]\n",
    "\n",
    "# Add the legend\n",
    "plt.legend(handles, labels.values(), title='Loan Purpose', loc='upper right')"
   ]
  },
  {
   "cell_type": "markdown",
   "metadata": {},
   "source": [
    "As can be obseved from the bar chart, majority borrowers whose loans were charged off took the loan for Debt consolidation"
   ]
  },
  {
   "cell_type": "markdown",
   "metadata": {},
   "source": [
    "### Occupation\n",
    "#### Question\n",
    "How data is distributed between borrowers' occupation?"
   ]
  },
  {
   "cell_type": "code",
   "execution_count": 49,
   "metadata": {},
   "outputs": [
    {
     "data": {
      "text/plain": [
       "array(['Other', 'Professional', 'Skilled Labor', 'Executive',\n",
       "       'Sales - Retail', 'Laborer', 'Food Service', 'Fireman',\n",
       "       'Waiter/Waitress', 'Construction', 'Computer Programmer',\n",
       "       'Sales - Commission', 'Retail Management', 'Engineer - Mechanical',\n",
       "       'Military Enlisted', 'Clerical', nan, 'Teacher', 'Clergy',\n",
       "       'Accountant/CPA', 'Attorney', 'Nurse (RN)', 'Analyst',\n",
       "       \"Nurse's Aide\", 'Flight Attendant', 'Nurse (LPN)',\n",
       "       'Military Officer', 'Food Service Management',\n",
       "       'Administrative Assistant', 'Police Officer/Correction Officer',\n",
       "       'Social Worker', 'Truck Driver', 'Tradesman - Mechanic',\n",
       "       'Medical Technician', 'Professor', 'Postal Service',\n",
       "       'Civil Service', 'Realtor', 'Pharmacist',\n",
       "       'Tradesman - Electrician', 'Scientist', 'Dentist',\n",
       "       'Engineer - Electrical', 'Landscaping', 'Tradesman - Carpenter',\n",
       "       'Bus Driver', 'Tradesman - Plumber', 'Architect',\n",
       "       'Engineer - Chemical', 'Doctor', 'Chemist',\n",
       "       'Student - College Senior', \"Teacher's Aide\",\n",
       "       'Pilot - Private/Commercial', 'Religious', 'Homemaker',\n",
       "       'Student - College Graduate Student', 'Principal', 'Investor',\n",
       "       'Psychologist', 'Biologist', 'Student - College Sophomore',\n",
       "       'Judge', 'Student - College Junior', 'Car Dealer',\n",
       "       'Student - Community College', 'Student - College Freshman',\n",
       "       'Student - Technical School'], dtype=object)"
      ]
     },
     "execution_count": 49,
     "metadata": {},
     "output_type": "execute_result"
    }
   ],
   "source": [
    "occ = loans_subset['Occupation'].unique()\n",
    "occ"
   ]
  },
  {
   "cell_type": "markdown",
   "metadata": {},
   "source": [
    "We see that there are some nan values in the Occupation column.Let's replace these values with empty string"
   ]
  },
  {
   "cell_type": "code",
   "execution_count": 63,
   "metadata": {},
   "outputs": [],
   "source": [
    "loans_subset.loc[:,['Occupation']] = loans_subset['Occupation'].fillna('')\n",
    "loans_subset_c.loc[:,['Occupation']] = loans_subset_c['Occupation'].fillna('')"
   ]
  },
  {
   "cell_type": "code",
   "execution_count": 64,
   "metadata": {},
   "outputs": [],
   "source": [
    "# Changing different student types values to student, similarly for trademan\n",
    "loans_subset.loc[loans_subset.Occupation.str.contains('Student -'), 'Occupation'] = 'Student'\n",
    "loans_subset.loc[loans_subset.Occupation.str.contains('Tradesman -'), 'Occupation'] = 'Tradesman'\n",
    "\n",
    "\n",
    "loans_subset_c.loc[loans_subset_c.Occupation.str.contains('Student -'), 'Occupation'] = 'Student'\n",
    "loans_subset_c.loc[loans_subset_c.Occupation.str.contains('Tradesman -'), 'Occupation'] = 'Tradesman'"
   ]
  },
  {
   "cell_type": "code",
   "execution_count": 65,
   "metadata": {},
   "outputs": [
    {
     "data": {
      "text/plain": [
       "Other                                2914\n",
       "Professional                         1154\n",
       "Administrative Assistant              432\n",
       "Clerical                              429\n",
       "Sales - Commission                    410\n",
       "Sales - Retail                        347\n",
       "Teacher                               346\n",
       "Executive                             327\n",
       "Computer Programmer                   292\n",
       "Skilled Labor                         290\n",
       "                                      284\n",
       "Retail Management                     276\n",
       "Accountant/CPA                        234\n",
       "Analyst                               218\n",
       "Laborer                               210\n",
       "Construction                          192\n",
       "Truck Driver                          175\n",
       "Food Service                          162\n",
       "Nurse (RN)                            151\n",
       "Tradesman                             142\n",
       "Civil Service                         141\n",
       "Police Officer/Correction Officer     140\n",
       "Military Enlisted                     139\n",
       "Medical Technician                    119\n",
       "Food Service Management               109\n",
       "Engineer - Mechanical                  93\n",
       "Realtor                                93\n",
       "Engineer - Electrical                  88\n",
       "Student                                88\n",
       "Postal Service                         76\n",
       "Nurse's Aide                           64\n",
       "Social Worker                          63\n",
       "Nurse (LPN)                            60\n",
       "Waiter/Waitress                        55\n",
       "Professor                              37\n",
       "Fireman                                36\n",
       "Bus Driver                             36\n",
       "Teacher's Aide                         32\n",
       "Attorney                               26\n",
       "Doctor                                 21\n",
       "Landscaping                            21\n",
       "Principal                              19\n",
       "Flight Attendant                       17\n",
       "Architect                              17\n",
       "Military Officer                       16\n",
       "Homemaker                              15\n",
       "Chemist                                15\n",
       "Car Dealer                             15\n",
       "Religious                              14\n",
       "Engineer - Chemical                    14\n",
       "Pharmacist                             14\n",
       "Scientist                              14\n",
       "Biologist                              13\n",
       "Clergy                                 11\n",
       "Pilot - Private/Commercial              6\n",
       "Investor                                4\n",
       "Psychologist                            3\n",
       "Name: Occupation, dtype: int64"
      ]
     },
     "execution_count": 65,
     "metadata": {},
     "output_type": "execute_result"
    }
   ],
   "source": [
    "loans_subset_c['Occupation'].value_counts()"
   ]
  },
  {
   "cell_type": "code",
   "execution_count": 70,
   "metadata": {},
   "outputs": [],
   "source": [
    "# Let's filter this for excluding other and blank occupation\n",
    "filtered_loans_subset = loans_subset[~loans_subset['Occupation'].isin(['Other', ''])]\n",
    "\n",
    "# count the number of occurrences of each category\n",
    "category_counts = filtered_loans_subset['Occupation'].value_counts()\n",
    "\n",
    "# For charged off loans\n",
    "# Let's filter this for excluding other and blank occupation\n",
    "filtered_loans_subset_c = loans_subset_c[~loans_subset_c['Occupation'].isin(['Other', ''])]\n",
    "\n",
    "# count the number of occurrences of each category\n",
    "category_counts_c = filtered_loans_subset_c['Occupation'].value_counts()"
   ]
  },
  {
   "cell_type": "markdown",
   "metadata": {},
   "source": [
    "#### Visualization\n",
    "\n",
    "since there are total 63 occupations in the data, it wont be possible to show them in a single plot. Hence, we will print only the top 15 occupations that applied for loans."
   ]
  },
  {
   "cell_type": "code",
   "execution_count": 71,
   "metadata": {},
   "outputs": [
    {
     "data": {
      "image/png": "[encoded data removed]",
      "text/plain": [
       "<Figure size 1008x864 with 1 Axes>"
      ]
     },
     "metadata": {
      "needs_background": "light"
     },
     "output_type": "display_data"
    }
   ],
   "source": [
    "n_loans = loans_subset.shape[0]\n",
    "occupation_count = category_counts[:16]\n",
    "occupation_order = occupation_count.index\n",
    "base_color = sb.color_palette()[0]\n",
    "sb.countplot(data=loans_subset, y='Occupation', color=base_color, order=occupation_order);"
   ]
  },
  {
   "cell_type": "markdown",
   "metadata": {},
   "source": [
    "#### Observations"
   ]
  },
  {
   "cell_type": "markdown",
   "metadata": {},
   "source": [
    "The maximum number of loan applicants are professionals.After professionals, the majority of the loan applicants are Computer Programmers, Executives, Teacher, Administrative Assistants, Analysts,Sales-Commission "
   ]
  },
  {
   "cell_type": "code",
   "execution_count": 73,
   "metadata": {},
   "outputs": [
    {
     "data": {
      "image/png": "[encoded data removed]",
      "text/plain": [
       "<Figure size 1008x864 with 1 Axes>"
      ]
     },
     "metadata": {
      "needs_background": "light"
     },
     "output_type": "display_data"
    }
   ],
   "source": [
    "n_loans_c = loans_subset_c.shape[0]\n",
    "occupation_count_c = category_counts_c[:16]\n",
    "occupation_order_c = occupation_count_c.index\n",
    "base_color = sb.color_palette()[0]\n",
    "sb.countplot(data=loans_subset_c, y='Occupation', color=base_color, order=occupation_order_c);"
   ]
  },
  {
   "cell_type": "markdown",
   "metadata": {},
   "source": [
    "### Term"
   ]
  },
  {
   "cell_type": "markdown",
   "metadata": {},
   "source": [
    "#### Question\n",
    "What is the distribution of term of loan ?"
   ]
  },
  {
   "cell_type": "code",
   "execution_count": 55,
   "metadata": {},
   "outputs": [
    {
     "data": {
      "text/plain": [
       "36    80602\n",
       "60    23143\n",
       "12     1414\n",
       "Name: Term, dtype: int64"
      ]
     },
     "execution_count": 55,
     "metadata": {},
     "output_type": "execute_result"
    }
   ],
   "source": [
    "loans_subset.Term.value_counts()"
   ]
  },
  {
   "cell_type": "markdown",
   "metadata": {},
   "source": [
    "#### Visualization:"
   ]
  },
  {
   "cell_type": "code",
   "execution_count": 56,
   "metadata": {},
   "outputs": [
    {
     "data": {
      "image/png": "[encoded data removed]",
      "text/plain": [
       "<Figure size 1008x864 with 1 Axes>"
      ]
     },
     "metadata": {},
     "output_type": "display_data"
    }
   ],
   "source": [
    "\n",
    "\n",
    "# Group the data by term and count the number of loans in each group\n",
    "term_counts = loans_subset.groupby('Term').size()\n",
    "#select pastel color palette \n",
    "pastel_colors = plt.cm.get_cmap('Pastel2')(np.linspace(0, 1, len(term_counts)))\n",
    "\n",
    "# Create a pie chart with the term counts\n",
    "plt.pie(term_counts, labels=term_counts.index, autopct='%1.1f%%', startangle = 90, \n",
    "        counterclock = False, wedgeprops = {'width': 0.4}, textprops = {'fontsize':15}, colors = pastel_colors )\n",
    "plt.axis('square')\n",
    "plt.title('Loan Terms')\n",
    "plt.show()"
   ]
  },
  {
   "cell_type": "markdown",
   "metadata": {},
   "source": [
    "#### Observation"
   ]
  },
  {
   "cell_type": "markdown",
   "metadata": {},
   "source": [
    "From the pie chart for Loan Term, we can observe that the maximum loans are applied for a period of 36 months i.e. 3 years which suggests that there is more demand for short term loans"
   ]
  },
  {
   "cell_type": "markdown",
   "metadata": {},
   "source": [
    "### TradesNeverDelinquent (percentage)"
   ]
  },
  {
   "cell_type": "markdown",
   "metadata": {},
   "source": [
    "#### Question :\n",
    "How is the percentage of trades that have never been delinquent distributed ?\n",
    "\n",
    "#### Visualization"
   ]
  },
  {
   "cell_type": "code",
   "execution_count": 57,
   "metadata": {},
   "outputs": [
    {
     "data": {
      "text/plain": [
       "1.00    37686\n",
       "0.96     3950\n",
       "0.95     3465\n",
       "0.90     2917\n",
       "0.94     2805\n",
       "        ...  \n",
       "0.32        5\n",
       "0.19        4\n",
       "0.06        3\n",
       "0.03        1\n",
       "0.99        1\n",
       "Name: TradesNeverDelinquent (percentage), Length: 97, dtype: int64"
      ]
     },
     "execution_count": 57,
     "metadata": {},
     "output_type": "execute_result"
    }
   ],
   "source": [
    "loans_subset['TradesNeverDelinquent (percentage)'].value_counts()"
   ]
  },
  {
   "cell_type": "code",
   "execution_count": 58,
   "metadata": {},
   "outputs": [
    {
     "data": {
      "image/png": "[encoded data removed]",
      "text/plain": [
       "<Figure size 792x360 with 1 Axes>"
      ]
     },
     "metadata": {
      "needs_background": "light"
     },
     "output_type": "display_data"
    }
   ],
   "source": [
    "plot_histogram_with_stats(loans_subset, 'TradesNeverDelinquent (percentage)', 1, 0.01)"
   ]
  },
  {
   "cell_type": "markdown",
   "metadata": {},
   "source": [
    "#### Observations:\n",
    "\n",
    "We see that the distribution is left skewed. It can be inferred that for majority of the loan applicants, the percentage of trades that never got delinquent are 0.90 and above suggesting that majority loan applicants repaid their loans on time."
   ]
  },
  {
   "cell_type": "code",
   "execution_count": 59,
   "metadata": {},
   "outputs": [
    {
     "data": {
      "image/png": "[encoded data removed]",
      "text/plain": [
       "<Figure size 792x360 with 1 Axes>"
      ]
     },
     "metadata": {
      "needs_background": "light"
     },
     "output_type": "display_data"
    }
   ],
   "source": [
    "plot_histogram_with_stats(loans_subset_c, 'TradesNeverDelinquent (percentage)', 1, 0.01)"
   ]
  },
  {
   "cell_type": "markdown",
   "metadata": {},
   "source": [
    "#### Observations:\n",
    "\n",
    "\n",
    "The bar chart for Trades Never delinquent ratio for charged off loans shows that majority people have a higher ratio with mean ratio being 0.8 which is a good ratio suggesting that majority borrowers under this category have a good repayment track record."
   ]
  },
  {
   "cell_type": "markdown",
   "metadata": {},
   "source": [
    "#### Question\n",
    "How is the APR changing over time?\n",
    "\n",
    "#### Visualization"
   ]
  },
  {
   "cell_type": "code",
   "execution_count": 60,
   "metadata": {},
   "outputs": [
    {
     "data": {
      "image/png": "[encoded data removed]",
      "text/plain": [
       "<Figure size 1224x648 with 1 Axes>"
      ]
     },
     "metadata": {
      "needs_background": "light"
     },
     "output_type": "display_data"
    }
   ],
   "source": [
    "def draw_trend(df, var, title, xlabel, ylabel):\n",
    "    fig, ax = plt.subplots(figsize=(17, 9))\n",
    "    \n",
    "    # Convert the LoanOriginationDate column to datetime format\n",
    "    df['LoanOriginationDate'] = pd.to_datetime(df['LoanOriginationDate'], format='%Y-%m-%d')\n",
    "    \n",
    "    # Group the data by month and calculate the mean of the specified variable\n",
    "    monthly_data = df.groupby(pd.Grouper(key='LoanOriginationDate', freq='m'))[var].mean()\n",
    "    \n",
    "    # Plot the data\n",
    "    monthly_data.plot()\n",
    "    plt.title(title)\n",
    "    plt.xlabel(xlabel)\n",
    "    plt.ylabel(ylabel)\n",
    "    plt.legend()\n",
    "    plt.show()\n",
    "\n",
    "draw_trend(loans_subset, 'BorrowerAPR', 'Avg APR over the months', 'Month', 'Borrower APR')"
   ]
  },
  {
   "cell_type": "code",
   "execution_count": 61,
   "metadata": {},
   "outputs": [],
   "source": [
    "loans_subset['month'] = loans_subset['LoanOriginationDate'].dt.month"
   ]
  },
  {
   "cell_type": "code",
   "execution_count": 62,
   "metadata": {},
   "outputs": [],
   "source": [
    "loans_subset['year'] = loans_subset['LoanOriginationDate'].dt.year"
   ]
  },
  {
   "cell_type": "markdown",
   "metadata": {},
   "source": [
    "#### Observation"
   ]
  },
  {
   "cell_type": "markdown",
   "metadata": {},
   "source": [
    "When observing the APR over the months, we see that there are no loan applications for the months ranging between Nov, 2008 and  April, 2009. Overall, the trend is going upwards from 2006 till 2011.Post which it starts to go down."
   ]
  },
  {
   "cell_type": "markdown",
   "metadata": {},
   "source": [
    "### Discuss the distribution(s) of our variable(s) of interest. Were there any unusual points? Did we need to perform any transformations?\n",
    "\n",
    "> The variables of interest are APR which is a multi modal distribution.\n",
    "We observe that majority of the data in APR column is centered around the mean Value i.e. 0.22. But this is an independent observation for the variable. We would like to observe the relationship of APR with other variables to see how it is related to the other variables.\n",
    "\n",
    ">Yes all records with Null values have been removed for variables that were examined namely - APR, Borrower Rating\n",
    "\n",
    "> Also, to check the trend of APR over the years, we converted the LoanOriginateDate to datetime format and extracted the month value in a separate column to plot the time series graph. \n",
    "\n",
    "\n",
    "### Of the features you investigated, were there any unusual distributions? Did you perform any operations on the data to tidy, adjust, or change the form of the data? If so, why did you do this?\n",
    "\n",
    "> Yes, there are many unusual distributions and operations were performed to tidy the data or change it's form.The details of which are as under:\n",
    "\n",
    "> 1. Stated Monthly Income: Though the maximum monthly income is 175000, we have shown the monthly income data of applications that are making income between 0 and 75000, since there is only one individual who is making more than 75000.This was observed by plotting a box plot and is treated as an outlier and hence not considered while plotting the distribution.\n",
    "> 2. Debt to Income ratio: The ratio has values ranging between 0 and 10. On examining the dsitribution, it is seen that majority values are less than one.Hence, we plotted distribution for values less than 1.\n",
    "> 3. Loan Status : the values in this column are changed for past due.All past due values as divided by number of days in the dataset, is now converted into a single value - past due.This is done for a cleaner visualization\n",
    "> 4. Rating : since column Credit Grade and Proposper Rating(Alpha) are stating the application before and after 2009 respectively. We have combined the two columns into one column \"Rating\".This is done to maximize the non-null values in the columns.\n",
    "> 5. Occupation : Since the number of occupations are 67 which is high. Hence, we clubbed some categories into one like Students and Tradesman.Also, we filtered others and nan values from this category by creating a filtered dataframe. It is difficult to plot all categories in one chart.Hence, we have shown only top 15 occupations by the number of applicants.This is done for two reasons - first , that plotting all occupations count won't serve the purpose of presentation. Second, We are interested in knowling only those occupations which are borrowing the most.\n",
    "> It is also observed that no loan applications are there between Nov, 2008 to April 2009. we need to inverstigate to find out the reason for the same.\n",
    "\n",
    "Next, we find out any relationships between the variables examined do far."
   ]
  },
  {
   "cell_type": "markdown",
   "metadata": {},
   "source": [
    "## Bivariate Exploration\n",
    "\n",
    "> In this section, we will investigate relationships between pairs of variables in our\n",
    "data. "
   ]
  },
  {
   "cell_type": "markdown",
   "metadata": {},
   "source": [
    "### Quantitative vs Quantitative Variable\n",
    "\n",
    "Lets first check if there is any correlation between quantitative variables "
   ]
  },
  {
   "cell_type": "code",
   "execution_count": null,
   "metadata": {},
   "outputs": [],
   "source": [
    "loans_subset.columns"
   ]
  },
  {
   "cell_type": "code",
   "execution_count": null,
   "metadata": {},
   "outputs": [],
   "source": [
    "numeric_var = ['BorrowerAPR', 'DebtToIncomeRatio', 'LoanOriginationDate', 'LoanOriginalAmount', 'OpenRevolvingMonthlyPayment', 'TradesNeverDelinquent (percentage)', 'StatedMonthlyIncome']\n",
    "categorical_var = ['LoanStatus', 'ListingCategory (numeric)', 'Occupation', 'Term', 'Rating' , 'EmploymentStatus', 'IncomeVerifiable',  ]"
   ]
  },
  {
   "cell_type": "code",
   "execution_count": null,
   "metadata": {},
   "outputs": [],
   "source": [
    "\n",
    "# correlation plot\n",
    "plt.figure(figsize = [8, 5])\n",
    "sb.heatmap(loans_subset[numeric_var].corr(), annot = True, fmt = '.3f',\n",
    "           cmap = 'vlag_r', center = 0)\n",
    "plt.show()"
   ]
  },
  {
   "cell_type": "markdown",
   "metadata": {},
   "source": [
    "The heatmap doesn't show any strong correlations between the quantitative variables.Now, we will try use a matrix and using the sample data from loans_subset"
   ]
  },
  {
   "cell_type": "code",
   "execution_count": null,
   "metadata": {},
   "outputs": [],
   "source": [
    "# plot matrix: sample 500 diamonds so that plots are clearer and they render faster\n",
    "print(\"loans_subset.shape=\",loans_subset.shape)\n",
    "loans_samp = loans_subset.sample(n=500, replace = False)\n",
    "print(\"loans_samp.shape=\",loans_samp.shape)\n",
    "\n",
    "g = sb.PairGrid(data = loans_samp, vars = numeric_var)\n",
    "g = g.map_diag(plt.hist, bins = 20);\n",
    "g.map_offdiag(plt.scatter)"
   ]
  },
  {
   "cell_type": "markdown",
   "metadata": {},
   "source": [
    "No clear relationships can be seen in the scatterplot either.Let's draw individual scatterplots and treat them for noise with jitters and transparency to make judgements and draw insights"
   ]
  },
  {
   "cell_type": "markdown",
   "metadata": {},
   "source": [
    "#### Debt to Income Ratio vs APR\n",
    "\n",
    "#### Visualization"
   ]
  },
  {
   "cell_type": "code",
   "execution_count": null,
   "metadata": {},
   "outputs": [],
   "source": [
    "import seaborn as sns\n",
    "# since we are mostly interested in the APR, lets find relationship of APR with other numeric variables\n",
    "sns.regplot(data = loans_subset, x = 'BorrowerAPR' , y = 'DebtToIncomeRatio');\n",
    "plt.xlabel('Borrower APR')\n",
    "plt.ylabel('Debt to Income Ratio')\n",
    "# plt.ylim((0,6));"
   ]
  },
  {
   "cell_type": "markdown",
   "metadata": {},
   "source": [
    "#### Observations\n",
    "\n",
    "The scatterplot is clearly overplotted, we need to add transparency to see the line of best fit and the r'ship betweeen APR and Debt to Inc ratio"
   ]
  },
  {
   "cell_type": "code",
   "execution_count": null,
   "metadata": {},
   "outputs": [],
   "source": [
    "sns.regplot(data = loans_subset, x = 'BorrowerAPR' , y = 'DebtToIncomeRatio', scatter_kws={'alpha':1/50});\n",
    "plt.xlabel('Borrower APR')\n",
    "plt.ylabel('Debt to Income Ratio')\n",
    "plt.ylim((0,2)); #since majority data points are within debt to income ratio of 2, we will limit the y axis values to 2."
   ]
  },
  {
   "cell_type": "markdown",
   "metadata": {},
   "source": [
    "#### Observations\n",
    "\n",
    "We can observe from the new scatterplot that line of best fit is sloping upwards, suggesting that rate of interest increases as the debt to income ratio increases.However, we have seen in the previous scatterplot that borrowers with high debt to income ratio are also given loans at a lower interest rate.Hence, we can not certainly say that higher debt levels would lead to higher interest rates for borrowers. We need to investigate further to conclude this with certainity"
   ]
  },
  {
   "cell_type": "markdown",
   "metadata": {},
   "source": [
    "#### Loan amount vs APR\n",
    "\n",
    "#### Visualization"
   ]
  },
  {
   "cell_type": "code",
   "execution_count": null,
   "metadata": {},
   "outputs": [],
   "source": [
    "sns.regplot(data = loans_subset, x = 'BorrowerAPR' , y = 'LoanOriginalAmount', scatter_kws={'alpha':1/50});\n",
    "plt.xlabel('Borrower APR')\n",
    "plt.ylabel('Loan amount')\n",
    "plt.title('Loans amount vs APR')"
   ]
  },
  {
   "cell_type": "markdown",
   "metadata": {},
   "source": [
    "#### Observation\n",
    "\n",
    "We observe that there is a negative correlation between Loan amount and APR. The interest rates fall as the Amount of loan increases."
   ]
  },
  {
   "cell_type": "markdown",
   "metadata": {},
   "source": [
    "#### Trades never delinquent vs APR\n",
    "\n",
    "#### Visualization"
   ]
  },
  {
   "cell_type": "code",
   "execution_count": null,
   "metadata": {},
   "outputs": [],
   "source": [
    "sns.regplot(data = loans_subset, x = 'BorrowerAPR' , y = 'TradesNeverDelinquent (percentage)', scatter_kws={'alpha':1/100});\n",
    "plt.xlabel('Borrower APR')\n",
    "plt.ylabel('Trades Never Delinquent (percentage)')"
   ]
  },
  {
   "cell_type": "markdown",
   "metadata": {},
   "source": [
    "#### Observations\n",
    "\n",
    "There is a negative correlation between APR and Trades never delinquent which was expected as the higher the trades never deliquent percentage, the better are consumers' credit score and hence less would be the interest rates charged from them.However, this statement is true for majority borrowers.It doesn't hold true for all borrowers as a large number of borrowers whose tradesneverdelinquent(TND) ratio is high and yet they are charged higher interest rates.Similarly, there are a few borrowers whose TND ratio is low and yet they are charged lower interest rates"
   ]
  },
  {
   "cell_type": "markdown",
   "metadata": {},
   "source": [
    "#### Stated monthly income vs APR\n",
    "\n",
    "#### Visualization"
   ]
  },
  {
   "cell_type": "code",
   "execution_count": null,
   "metadata": {},
   "outputs": [],
   "source": [
    "sns.regplot(data = loans_subset, x = 'BorrowerAPR' , y = 'StatedMonthlyIncome', scatter_kws={'alpha':1/50});\n",
    "plt.xlabel('Borrower APR')\n",
    "plt.ylabel('Monthly income')\n",
    "plt.ylim((0,35000));"
   ]
  },
  {
   "cell_type": "markdown",
   "metadata": {},
   "source": [
    "#### Observation\n",
    "\n",
    "It can be observed that there is a negative correlation between borrower's income and interest rate. Lower the income, higher the interest rate. This is because if income is low, the risk of repayment is higher.To account for the risk bank's increase the interest rates."
   ]
  },
  {
   "cell_type": "markdown",
   "metadata": {},
   "source": [
    "### Quantitative vs Qualitative Variables\n",
    "\n",
    "Let's now examine the relationship between numeric and categorical variables. \n",
    "#### APR vs Loan Status \n",
    "\n",
    "#### visualization"
   ]
  },
  {
   "cell_type": "code",
   "execution_count": null,
   "metadata": {},
   "outputs": [],
   "source": [
    "loans_subset.LoanStatus.unique()"
   ]
  },
  {
   "cell_type": "code",
   "execution_count": null,
   "metadata": {},
   "outputs": [],
   "source": [
    "# Lets explore the relationship between 'LoanStatus' and 'BorrowerAPR'\n",
    "loan_status = ['Completed', 'Current', 'Past Due', 'Defaulted', 'Chargedoff',\n",
    "       'Cancelled', 'FinalPaymentInProgress']\n",
    "lstatus = pd.api.types.CategoricalDtype(ordered=True, categories=loan_status)\n",
    "loans_subset['LoanStatus'] = loans_subset['LoanStatus'].astype(lstatus);\n",
    "\n",
    "plt.figure(figsize = [16, 5])\n",
    "base_color = sb.color_palette()[0]\n",
    "\n",
    "# LEFT plot: violin plot\n",
    "plt.subplot(1, 2, 1)\n",
    "#Let's return the axes object\n",
    "ax1 = sb.violinplot(data=loans_subset, x='LoanStatus', y='BorrowerAPR', color=base_color);\n",
    "plt.xticks(rotation=15);\n",
    "\n",
    "# RIGHT plot: box plot\n",
    "plt.subplot(1, 2, 2)\n",
    "sb.boxplot(data=loans_subset, x='LoanStatus', y='BorrowerAPR', color=base_color);\n",
    "plt.xticks(rotation=15);\n",
    "plt.ylim(ax1.get_ylim()) # set y-axis limits to be same as left plot"
   ]
  },
  {
   "cell_type": "markdown",
   "metadata": {},
   "source": [
    "#### Observation\n",
    "\n",
    "We can clearly see that the interest rates are different for different cetrgories of loan status.Interest rates are lower for completed and current as can be observed from the wider violins at 0.1 and 0.2 respectively. For past due, defaulted and charged off the rates are around 0.3 and above."
   ]
  },
  {
   "cell_type": "markdown",
   "metadata": {},
   "source": [
    "#### APR vs Occupation"
   ]
  },
  {
   "cell_type": "code",
   "execution_count": null,
   "metadata": {},
   "outputs": [],
   "source": [
    "loans_subset.Occupation.unique()"
   ]
  },
  {
   "cell_type": "markdown",
   "metadata": {},
   "source": [
    "#### Visualizations"
   ]
  },
  {
   "cell_type": "code",
   "execution_count": null,
   "metadata": {},
   "outputs": [],
   "source": [
    "# Lets explore the relationship between 'Occupation' and 'BorrowerAPR'\n",
    "fig = plt.figure(figsize=(15, 40))\n",
    "sb.boxplot(data=filtered_loans_subset, y='Occupation', x='BorrowerAPR', color=base_color);\n"
   ]
  },
  {
   "cell_type": "markdown",
   "metadata": {},
   "source": [
    "#### Observation\n",
    "\n",
    "The box plot between APR and Occupation suggests that majority borrowers are being charged interest rates between 0.1 and 0.3 range except for teachers."
   ]
  },
  {
   "cell_type": "markdown",
   "metadata": {},
   "source": [
    "#### APR vs Term"
   ]
  },
  {
   "cell_type": "code",
   "execution_count": null,
   "metadata": {},
   "outputs": [],
   "source": [
    "loans_subset.Term.value_counts()"
   ]
  },
  {
   "cell_type": "markdown",
   "metadata": {},
   "source": [
    "#### Visualization"
   ]
  },
  {
   "cell_type": "code",
   "execution_count": null,
   "metadata": {},
   "outputs": [],
   "source": [
    "# Lets explore the relationship between 'LoanStatus' and 'BorrowerAPR'\n",
    "term_status = [60, 36, 12]\n",
    "tstatus = pd.api.types.CategoricalDtype(ordered=True, categories=term_status)\n",
    "loans_subset['Term'] = loans_subset['Term'].astype(tstatus);\n",
    "\n",
    "plt.figure(figsize = [16, 5])\n",
    "base_color = sb.color_palette()[0]\n",
    "\n",
    "# LEFT plot: violin plot\n",
    "plt.subplot(1, 2, 1)\n",
    "#Let's return the axes object\n",
    "ax1 = sb.violinplot(data=loans_subset, x='Term', y='BorrowerAPR', color=base_color);\n",
    "\n",
    "# RIGHT plot: box plot\n",
    "plt.subplot(1, 2, 2)\n",
    "sb.boxplot(data=loans_subset, x='Term', y='BorrowerAPR', color=base_color);\n",
    "plt.ylim(ax1.get_ylim()) # set y-axis limits to be same as left plot"
   ]
  },
  {
   "cell_type": "markdown",
   "metadata": {},
   "source": [
    "#### Observations"
   ]
  },
  {
   "cell_type": "markdown",
   "metadata": {},
   "source": [
    "The violin plot and box plot for the relationship between Term and APR suggests that the borrower APR are lowest for long term loans(5 years)"
   ]
  },
  {
   "cell_type": "markdown",
   "metadata": {},
   "source": [
    "#### APR vs Rating"
   ]
  },
  {
   "cell_type": "code",
   "execution_count": null,
   "metadata": {},
   "outputs": [],
   "source": [
    "loans_subset.Rating.unique()"
   ]
  },
  {
   "cell_type": "markdown",
   "metadata": {},
   "source": [
    "#### Visualization"
   ]
  },
  {
   "cell_type": "code",
   "execution_count": null,
   "metadata": {},
   "outputs": [],
   "source": [
    "# Lets explore the relationship between 'LoanStatus' and 'BorrowerAPR'\n",
    "ratings = ['HR', 'E', 'D', 'C', 'B', 'A', 'AA']\n",
    "ratings_cat = pd.api.types.CategoricalDtype(ordered=True, categories=ratings)\n",
    "loans_subset['Rating'] = loans_subset['Rating'].astype(ratings_cat);\n",
    "\n",
    "plt.figure(figsize = [16, 5])\n",
    "base_color = sb.color_palette()[0]\n",
    "\n",
    "# LEFT plot: violin plot\n",
    "plt.subplot(1, 2, 1)\n",
    "#Let's return the axes object\n",
    "ax1 = sb.violinplot(data=loans_subset, x='Rating', y='BorrowerAPR', color=base_color);\n",
    "\n",
    "# RIGHT plot: box plot\n",
    "plt.subplot(1, 2, 2)\n",
    "sb.boxplot(data=loans_subset, x='Rating', y='BorrowerAPR', color=base_color)\n",
    "plt.ylim(ax1.get_ylim()) # set y-axis limits to be same as left plot"
   ]
  },
  {
   "cell_type": "markdown",
   "metadata": {},
   "source": [
    "#### Observation"
   ]
  },
  {
   "cell_type": "markdown",
   "metadata": {},
   "source": [
    "As it can be seen in the violin plot as well as box plot that APR is higher for lower ratings and as the ratings improve the interest rates also come down. Hence, the two variables are negatively correlated"
   ]
  },
  {
   "cell_type": "markdown",
   "metadata": {},
   "source": [
    "### Relationship between other variables"
   ]
  },
  {
   "cell_type": "markdown",
   "metadata": {},
   "source": [
    "#### Occupation vs Stated Monthly Income"
   ]
  },
  {
   "cell_type": "markdown",
   "metadata": {},
   "source": [
    "#### Visualization"
   ]
  },
  {
   "cell_type": "code",
   "execution_count": null,
   "metadata": {},
   "outputs": [],
   "source": [
    "fig = plt.figure(figsize=(15, 40))\n",
    "sb.boxplot(data=filtered_loans_subset, y='Occupation', x='StatedMonthlyIncome', color=base_color);\n",
    "plt.xlim((0,50000))"
   ]
  },
  {
   "cell_type": "markdown",
   "metadata": {},
   "source": [
    "#### Observations\n",
    "\n",
    "We can observe from the box plot of Income and Occupation, the highest incomes are made by borrowers in the following occupation:\n",
    "    \n",
    "    1. Judge\n",
    "    2. Doctor\n",
    "    3. Dentist\n",
    "    4. Pharmacist\n",
    "    5. Attorney\n",
    "    6. Executives"
   ]
  },
  {
   "cell_type": "markdown",
   "metadata": {},
   "source": [
    "#### Rating vs 'TradesNeverDelinquent (percentage)'\n",
    "\n",
    "#### Visualization"
   ]
  },
  {
   "cell_type": "code",
   "execution_count": null,
   "metadata": {},
   "outputs": [],
   "source": [
    "ratings = ['HR', 'E', 'D', 'C', 'B', 'A', 'AA']\n",
    "ratings_cat = pd.api.types.CategoricalDtype(ordered=True, categories=ratings)\n",
    "loans_subset['Rating'] = loans_subset['Rating'].astype(ratings_cat);\n",
    "\n",
    "plt.figure(figsize = [16, 5])\n",
    "base_color = sb.color_palette()[0]\n",
    "\n",
    "# LEFT plot: violin plot\n",
    "plt.subplot(1, 2, 1)\n",
    "#Let's return the axes object\n",
    "ax1 = sb.violinplot(data=loans_subset, x='Rating', y='TradesNeverDelinquent (percentage)', color=base_color);\n",
    "\n",
    "# RIGHT plot: box plot\n",
    "plt.subplot(1, 2, 2)\n",
    "sb.boxplot(data=loans_subset, x='Rating', y='TradesNeverDelinquent (percentage)', color=base_color)\n",
    "plt.ylim(ax1.get_ylim()) # set y-axis limits to be same as left plot"
   ]
  },
  {
   "cell_type": "markdown",
   "metadata": {},
   "source": [
    "#### Observation\n",
    "\n",
    "Higher ratings are assigned to those borrowers whose Trades-never-delinquent ratio is highest. As we can see in the violin plot, the data is most spread out near 1 for AA rating.The spread reduces at this point as we go towards left or lower ratings."
   ]
  },
  {
   "cell_type": "markdown",
   "metadata": {},
   "source": [
    "#### Rating vs 'StatedMonthlyIncome'\n",
    "\n",
    "#### Visualization"
   ]
  },
  {
   "cell_type": "code",
   "execution_count": null,
   "metadata": {},
   "outputs": [],
   "source": [
    "ratings = ['HR', 'E', 'D', 'C', 'B', 'A', 'AA']\n",
    "ratings_cat = pd.api.types.CategoricalDtype(ordered=True, categories=ratings)\n",
    "loans_subset['Rating'] = loans_subset['Rating'].astype(ratings_cat);\n",
    "\n",
    "plt.figure(figsize = [16, 5])\n",
    "base_color = sb.color_palette()[0]\n",
    "\n",
    "# LEFT plot: violin plot\n",
    "plt.subplot(1, 2, 1)\n",
    "#Let's return the axes object\n",
    "ax1 = sb.violinplot(data=loans_subset, x='Rating', y='StatedMonthlyIncome', color=base_color);\n",
    "# plt.ylim((0, 50000))\n",
    "\n",
    "# RIGHT plot: box plot\n",
    "plt.subplot(1, 2, 2)\n",
    "sb.boxplot(data=loans_subset, x='Rating', y='StatedMonthlyIncome', color=base_color)\n",
    "plt.ylim(ax1.get_ylim()) # set y-axis limits to be same as left plot"
   ]
  },
  {
   "cell_type": "code",
   "execution_count": null,
   "metadata": {},
   "outputs": [],
   "source": [
    "loans_subset.StatedMonthlyIncome.max()"
   ]
  },
  {
   "cell_type": "markdown",
   "metadata": {},
   "source": [
    "#### Visualization"
   ]
  },
  {
   "cell_type": "code",
   "execution_count": null,
   "metadata": {},
   "outputs": [],
   "source": [
    "from matplotlib.ticker import ScalarFormatter\n",
    "\n",
    "plt.figure(figsize = [16, 15])\n",
    "base_color = sb.color_palette()[0]\n",
    "\n",
    "# LEFT plot: violin plot\n",
    "plt.subplot(1, 2, 1)\n",
    "#Let's return the axes object\n",
    "ax1 = sb.violinplot(data=loans_subset, x='Rating', y='StatedMonthlyIncome', color=base_color);\n",
    "# plt.ylim((0, 100000))\n",
    "plt.yscale('log')\n",
    "yticks = [100, 2000, 4000, 6000, 8000, 10000, 12000, 14000, 16000, 18000, 20000, 40000, 160000, 640000]\n",
    "plt.yticks(yticks)\n",
    "formatter = ScalarFormatter()\n",
    "formatter.set_scientific(False)\n",
    "plt.gca().yaxis.set_major_formatter(formatter)\n",
    "\n",
    "\n",
    "# RIGHT plot: box plot\n",
    "plt.subplot(1, 2, 2)\n",
    "sb.boxplot(data=loans_subset, x='Rating', y='StatedMonthlyIncome', color=base_color)\n",
    "plt.ylim(ax1.get_ylim()) # set y-axis limits to be same as left plot\n",
    "plt.yscale('log')\n",
    "plt.yticks(yticks)\n",
    "formatter = ScalarFormatter()\n",
    "formatter.set_scientific(False)\n",
    "plt.gca().yaxis.set_major_formatter(formatter)"
   ]
  },
  {
   "cell_type": "markdown",
   "metadata": {},
   "source": [
    "#### Observations\n",
    "\n",
    "Majority Borrowers with higher credit rating have taken loans above USD 4000. While those rated C and D, have taken loans ranging between 100 and 5000. and those whose rating are below D, have taken loans raning from 100 and 2000  "
   ]
  },
  {
   "cell_type": "markdown",
   "metadata": {},
   "source": [
    "### Qualitative vs Qualitative"
   ]
  },
  {
   "cell_type": "code",
   "execution_count": null,
   "metadata": {},
   "outputs": [],
   "source": [
    "loans_subset.columns"
   ]
  },
  {
   "cell_type": "markdown",
   "metadata": {},
   "source": [
    "#### Comparing Loan status with :\n",
    "> Income Verifiable<br>\n",
    "> Employment Status<br>\n",
    "> Term<br>\n",
    "> Rating\n",
    "\n",
    "#### visualization"
   ]
  },
  {
   "cell_type": "code",
   "execution_count": null,
   "metadata": {},
   "outputs": [],
   "source": [
    "from matplotlib import rcParams\n",
    "# Comparing 'LoanStatus' variable to the other categorical variables\n",
    "rcParams['figure.figsize'] = 14, 12\n",
    "\n",
    "#subplot 1\n",
    "plt.subplot(2,2,1)\n",
    "sb.countplot(data = loans_subset, x = 'IncomeVerifiable', hue = 'LoanStatus')\n",
    "plt.legend(bbox_to_anchor=(1.27, 1),\n",
    "           borderaxespad=0) # push the legend to the side\n",
    "plt.title('Income Verifiable vs. Loan Status');\n",
    "\n",
    "\n",
    "#subplot 2\n",
    "plt.subplot(2,2,2)\n",
    "sb.countplot(data = loans_subset, x = 'EmploymentStatus', hue = 'LoanStatus')\n",
    "plt.xticks(rotation = 90)\n",
    "plt.legend(bbox_to_anchor=(1.01, 1),\n",
    "           borderaxespad=0)\n",
    "plt.title('Employment Status vs. Loan Status');\n",
    "\n",
    "#subplot 3\n",
    "plt.subplot(2,2,3)\n",
    "sb.countplot(data = loans_subset, x = 'Term', hue = 'LoanStatus')\n",
    "plt.xticks(rotation = 30)\n",
    "plt.legend(bbox_to_anchor=(0.92, 1),\n",
    "           borderaxespad=0)\n",
    "plt.xlabel('Term in month')\n",
    "plt.title('Term vs. Loan Status');\n",
    "\n",
    "#subplot 4\n",
    "plt.subplot(2,2,4)\n",
    "sb.countplot(data = loans_subset, x = 'Rating', hue = 'LoanStatus')\n",
    "plt.xticks(rotation = 30)\n",
    "plt.legend(bbox_to_anchor=(1.01, 1),\n",
    "           borderaxespad=0)\n",
    "plt.title('Rating vs. Loan Status');\n",
    "\n",
    "plt.subplots_adjust(wspace=0.50, \n",
    "                    hspace=0.5)"
   ]
  },
  {
   "cell_type": "markdown",
   "metadata": {},
   "source": [
    "#### Observations\n",
    "\n",
    "Starting with the first plot on the left and moving clockwise, we observe :\n",
    "1. That a vast majority of the loans were given to those whose income has been verified. In fact, we can see that it doesn't matter what the loan status is, the number of loans for each category of statuses in verified income will be many time larger than in unverified. \n",
    "\n",
    "2. Moving on to the next plot, there isn't much information to derive from 'part-time', 'not employed' and 'retired', but we can conclude that almost all of the current loans are given to those who are considered employed. Those considered 'full-time' holds the most completed loans.\n",
    "\n",
    "3. Next, we can see the current loans make up a portion of each rating, as well as being the highest count. The next hgihest count across all rating is completed. We can also see that the majority of current loans are held by those with ratings, C - A, while completed loans are among those borrowers who are rated D - A\n",
    "\n",
    "4. Lastly, at the bottom left, we can see that a vast majority of the loans are 36-terms. It seems like 36-month holds the most loans of each types. However, we can also see that there is quite a bit of current loans for 60-month term. "
   ]
  },
  {
   "cell_type": "markdown",
   "metadata": {},
   "source": [
    "Comparing Income Verifiable with:\n",
    ">Employment Status<br>\n",
    ">Term<br>\n",
    ">Rating\n",
    "\n",
    "#### Visualization"
   ]
  },
  {
   "cell_type": "code",
   "execution_count": null,
   "metadata": {},
   "outputs": [],
   "source": [
    "plt.figure(figsize = [10, 15])\n",
    "\n",
    "#subplot 1\n",
    "plt.subplot(3,1,1)\n",
    "sb.countplot(data = loans_subset, y = 'EmploymentStatus', hue = 'IncomeVerifiable')\n",
    "plt.legend(bbox_to_anchor=(1.27, 1),\n",
    "           borderaxespad=0, title = \"Income Verified\")\n",
    "plt.xticks(rotation = 30)\n",
    "plt.title('Employment Status vs. Income Verifiable');\n",
    "\n",
    "#subplot 2\n",
    "plt.subplot(3,1,2)\n",
    "sb.countplot(data = loans_subset, y = 'Term', hue = 'IncomeVerifiable')\n",
    "plt.legend(bbox_to_anchor=(1.27, 1),\n",
    "           borderaxespad=0, title = \"Income Verified\")\n",
    "plt.xticks(rotation = 30)\n",
    "plt.title('Term vs. Income Verifiable');\n",
    "\n",
    "#subplot 3\n",
    "plt.subplot(3,1,3)\n",
    "sb.countplot(data = loans_subset, y = 'Rating', hue = 'IncomeVerifiable')\n",
    "plt.legend(bbox_to_anchor=(1.01, 1),\n",
    "           borderaxespad=0, title = \"Income Verified\")\n",
    "plt.xticks(rotation = 30)\n",
    "plt.title('Rating vs. Income Verifiable');\n",
    "\n",
    "plt.subplots_adjust(hspace=1)"
   ]
  },
  {
   "cell_type": "markdown",
   "metadata": {},
   "source": [
    "#### Observations\n",
    "Following observations ccan be made from the charts:\n",
    "   > 1. Majority loans were granted to borrowers who are employed or full-time and their income is verified.<br>\n",
    "   > 2. Majority loans were granted for a period of 36 months to those whose incomes were verified. <br>\n",
    "   > 3. Again , majority loans were granted to borrowers whose rating ranges from D - A and incomes verified\n",
    "#### Comparing Borrower Ratings with Term\n",
    "\n",
    "#### Visualization"
   ]
  },
  {
   "cell_type": "code",
   "execution_count": null,
   "metadata": {},
   "outputs": [],
   "source": [
    "plt.figure(figsize = [6, 8])\n",
    "\n",
    "\n",
    "sb.countplot(data = loans_subset, x = 'Rating', hue = 'Term')\n",
    "plt.legend(bbox_to_anchor=(1.01, 1),\n",
    "           borderaxespad=0, title = 'Terms(in months)')\n",
    "plt.xticks(rotation = 30)\n",
    "plt.title('Rating vs. Term');plt.figure(figsize = [6, 8])\n"
   ]
  },
  {
   "cell_type": "markdown",
   "metadata": {},
   "source": [
    "#### Observation\n",
    "\n",
    "The clustered bar chart suggests that majority loans were granted for a period of 36 months as we discovered in previous analysis too.The same is high for all rating including the lowest rating of HR.But it is highest for borrowers with a rating of C and then D."
   ]
  },
  {
   "cell_type": "markdown",
   "metadata": {},
   "source": [
    "### Talk about some of the relationships you observed in this part of the investigation. How did the feature(s) of interest vary with other features in the dataset?\n",
    "\n",
    "Following observations were made while analysing the dataset for relationships between APR and other variables\n",
    "\n",
    "1. Loans Staus vs APR : Interest rates are lower for completed and current as can be observed from the wider violins at 0.1 and 0.2 respectively. For past due, defaulted and charged off the rates are around 0.3 and above.\n",
    "\n",
    "2. Occupation vs APR : The violin plot between APR and Occupation suggests that majority loans are between 0.1 and 0.2 range except for teachers, homemakeer, bus drivers and flight attendants who are being charged a comparitively higher interest rate.\n",
    "\n",
    "3. Term vs APR : The borrower APR are lowest for long term loans(5 years)\n",
    "\n",
    "4. Rating vs APR : The two variables are inversely related suggesting that borrowers with better ratings are charged less rates of interest.\n",
    "\n",
    "Finally, we can conclude that Interest rates are impacted by Status of loan , Occupation, Term and Rating as these factors describe the risk associated with the repayment of loan and hence accounted for in the interest rate.\n",
    "\n",
    "### Did you observe any interesting relationships between the other features (not the main feature(s) of interest)?\n",
    "\n",
    "> Yes, there are some interesting relationships between other combinations of quantitative and qualitative variables.\n",
    "\n",
    "1. Occupation vs Stated Monthly income : The highest incomes are made by borrowers in the following occupation:\n",
    "\n",
    ">1. Judge\n",
    ">2. Doctor\n",
    ">3. Dentist\n",
    ">4. Pharmacist\n",
    ">5. Attorney\n",
    ">6. Executives\n",
    "\n",
    "2. Rating vs 'TradesNeverDelinquent (percentage) : Higher ratings are assigned to those borrowers whose Trades-never-delinquent ratio is highest, indicating a direct/positive relationship between Rating and Trades never delinquent\n",
    "\n",
    "3. Rating vs 'StatedMonthlyIncome : Higher the rating, higher is the range of loans taken by borrowers i.e. majority borrowers with good credit rating have not taken loans less than USD 2000.\n",
    "\n",
    "4. Income Verifiable vs Loan status : That a vast majority of the loans were given to those whose income has been verified. In fact, it doesn't matter what the loan status is, the number of loans for each category of statuses in verified income will be many times larger than in unverified.\n",
    "\n",
    "5. Employment Status vs Loan Status : There isn't much information to derive from 'part-time', 'not employed' and 'retired', but we can conclude that almost all of the current loans are given to those who are considered employed. Those considered 'full-time' holds the most completed loans.\n",
    "\n",
    "6. Rating Vs Loan Status : The current loans make up majority portion of each rating, as well as being the highest count. The next highest count across all rating is completed. Also, the majority of current loans are held by those with ratings, C - A, while completed loans are among those borrowers who are rated D - A\n",
    "\n",
    "7. Term vs Loan Status :  A vast majority of the loans are 36-terms. It seems like 36-month holds the most loans of each types of loan status. However, we can also see that there is quite a bit of current loans for 60-month term."
   ]
  },
  {
   "cell_type": "markdown",
   "metadata": {},
   "source": [
    "## Multivariate Exploration\n",
    "\n",
    "> In this section, we will create plots of three or more variables to investigate our data even\n",
    "further."
   ]
  },
  {
   "cell_type": "markdown",
   "metadata": {},
   "source": [
    "#### Loan amount vs Interest vs Rating\n",
    "#### Visualization:"
   ]
  },
  {
   "cell_type": "code",
   "execution_count": null,
   "metadata": {},
   "outputs": [],
   "source": [
    "# Assuming your DataFrame is named loans_subset\n",
    "plt.figure(figsize=(15, 15))\n",
    "\n",
    "sns.scatterplot(data=loans_subset, x='LoanOriginalAmount', y='BorrowerAPR', hue='Rating', palette='viridis');\n",
    "plt.xlabel('Loan Amount')\n",
    "plt.ylabel('Interest Rate')\n",
    "plt.title('Loan Amount vs Interest Rate vs Rating')\n",
    "plt.show()"
   ]
  },
  {
   "cell_type": "markdown",
   "metadata": {},
   "source": [
    "#### Observation:\n",
    "As can be observed higher the rating, lower is the interest rate except a few till the amount of 25,000 that are rated higher and yet given at a higher interest rates"
   ]
  },
  {
   "cell_type": "markdown",
   "metadata": {},
   "source": [
    "#### Loan amount vs Interest Rate vs Monthly payment\n",
    "\n",
    "#### Visualization:"
   ]
  },
  {
   "cell_type": "code",
   "execution_count": null,
   "metadata": {},
   "outputs": [],
   "source": [
    "loans_subset.columns"
   ]
  },
  {
   "cell_type": "code",
   "execution_count": null,
   "metadata": {},
   "outputs": [],
   "source": [
    "plt.figure(figsize=(15, 15))\n",
    "\n",
    "# Create a scatter plot with color encoding for monthly payments\n",
    "plt.scatter(loans_subset['LoanOriginalAmount'], loans_subset['BorrowerAPR'], c=loans_subset['OpenRevolvingMonthlyPayment'], cmap='Purples', alpha=0.5)\n",
    "\n",
    "# Add a color bar to the plot\n",
    "plt.colorbar()\n",
    "\n",
    "# Add axis labels and a title\n",
    "plt.xlabel('Loan Amount')\n",
    "plt.ylabel('Interest Rate')\n",
    "plt.title('Loan Amount vs. Interest Rate with Monthly Payment Color Encoding')\n",
    "# Show the plot\n",
    "plt.show()"
   ]
  },
  {
   "cell_type": "markdown",
   "metadata": {},
   "source": [
    "#### Observations:\n",
    "\n",
    "The scatter plot suggests that repayments are mostly below USD 4000 with a few exceptions where it is higher than USD 4000"
   ]
  },
  {
   "cell_type": "markdown",
   "metadata": {},
   "source": [
    "#### Rating vs APR vs Term\n",
    "\n",
    "#### Visualization:"
   ]
  },
  {
   "cell_type": "code",
   "execution_count": null,
   "metadata": {},
   "outputs": [],
   "source": [
    "import seaborn as sns\n",
    "import matplotlib.pyplot as plt\n",
    "\n",
    "sns.boxplot(data=loans_subset, x='Rating', y='BorrowerAPR', hue='Term')\n",
    "plt.xlabel('Rating')\n",
    "plt.ylabel('Borrower APR')\n",
    "plt.title('Box Plot of Borrower APR by Rating and Term')\n",
    "plt.show()"
   ]
  },
  {
   "cell_type": "markdown",
   "metadata": {},
   "source": [
    "#### Observations:\n",
    "\n",
    "Apart from the observation that there is an inverse relationship between Rating and Borrower APR, which we observed in many previous charts, we observe \n",
    "\n",
    "1. That avg APR for HR and E rated borrowers is almost equal and overall higher than those who are rated higher\n",
    "2. Borrowers rated HR(lowest) are not granted any 12 month or 60 month loan, but they are granted 36 month loan.\n",
    "3. Majority borrowers that are granted for 12 month period are rated E and D.\n",
    "4. Borrowers who are rated the lowest have been charged the highest interest rates too(0.5 and above)"
   ]
  },
  {
   "cell_type": "code",
   "execution_count": null,
   "metadata": {},
   "outputs": [],
   "source": [
    "# loans_copy = loans_subset.copy()\n",
    "loans_subset['Debt_level'] = loans_subset['DebtToIncomeRatio'].apply(lambda x: 'High' if x > 1 else 'Low')"
   ]
  },
  {
   "cell_type": "markdown",
   "metadata": {},
   "source": [
    "#### Visualization:"
   ]
  },
  {
   "cell_type": "code",
   "execution_count": null,
   "metadata": {},
   "outputs": [],
   "source": [
    "\n",
    "rating_order = ['High', 'Low']\n",
    "\n",
    "# plt.scatter(data = loans_copy, x = 'LoanOriginalAmount', y = 'StatedMonthlyIncome', s = 'DebtToIncomeRatio')\n",
    "DITR_cat = pd.api.types.CategoricalDtype(categories = rating_order, ordered = True)\n",
    "loans_subset['Debt_level'] = loans_subset['Debt_level'].astype(DITR_cat)\n",
    "\n",
    "# dummy series for adding legend\n",
    "sizes = np.where(loans_subset['Debt_level'] == 'High', 300, 30)\n",
    "base_color = sb.color_palette()[0]\n",
    "# legend_obj = []\n",
    "# for s in sizes:\n",
    "#     legend_obj.append(plt.scatter([], [], s = s, color = base_color))\n",
    "# plt.legend(legend_obj, sizes)\n",
    "plt.scatter(loans_subset['LoanOriginalAmount'], loans_subset['StatedMonthlyIncome'], color=base_color, s=sizes, alpha=0.08)\n",
    "plt.xlabel('Loan Original Amount')\n",
    "plt.ylabel('Stated Monthly Income')\n",
    "plt.title('Scatter Plot with Size Encoding')\n",
    "# plt.colorbar(label='Debt to Income Ratio')\n",
    "plt.ylim(0,80000)\n",
    "plt.show()"
   ]
  },
  {
   "cell_type": "code",
   "execution_count": null,
   "metadata": {},
   "outputs": [],
   "source": [
    "loans_subset.Debt_level.value_counts()"
   ]
  },
  {
   "cell_type": "markdown",
   "metadata": {},
   "source": [
    "#### Observations:\n",
    "\n",
    "As can be observed from the chart, that there are very few point that are showing high debt levels and majority of those points are near borrowers with income level less than 10000\n",
    "\n",
    "\n",
    "#### Loan amount vs debt to income ratio for loan statuses and debt level\n",
    "#### Visualization:"
   ]
  },
  {
   "cell_type": "code",
   "execution_count": null,
   "metadata": {},
   "outputs": [],
   "source": [
    "g = sb.FacetGrid(data = loans_subset, col = 'LoanStatus', row = 'Debt_level', height = 2.5,\n",
    "                margin_titles = True)\n",
    "g.map(plt.scatter, 'LoanOriginalAmount', 'DebtToIncomeRatio');\n",
    "plt.show()"
   ]
  },
  {
   "cell_type": "markdown",
   "metadata": {},
   "source": [
    "#### Observation:\n",
    "\n",
    "From the facet grid we can infer that borrowers with a low debt level, the loan amount of certain borrowers is higher than 25,000. However, for borrowers with higher debt level, the loan amount does not go beyond 25,000.\n",
    "An interesting observation here is that even with a higher debt levels, many borrowers completed their loans."
   ]
  },
  {
   "cell_type": "code",
   "execution_count": null,
   "metadata": {},
   "outputs": [],
   "source": [
    "g = sb.FacetGrid(data = loans_subset, col = 'LoanStatus', row = 'Debt_level', height = 2.5,\n",
    "                margin_titles = True)\n",
    "g.map(plt.scatter, 'DebtToIncomeRatio', 'BorrowerAPR');\n",
    "plt.show()"
   ]
  },
  {
   "cell_type": "markdown",
   "metadata": {},
   "source": [
    "###  Some of the relationships we observed in this part of the investigation. Were there any features that strengthened each other in terms of looking at our feature(s) of interest?\n",
    "\n",
    "Following observations can be made with regards to interest rates:\n",
    "\n",
    "1. Loan amount vs Interest vs Rating\n",
    "Higher the rating, lower is the interest rate except a few till the amount of 25,000 that are rated higher and yet given at a higher interest rates\n",
    "\n",
    "2. Loan amount vs Interest Rate vs Monthly payment \n",
    "Irrespective of the loan amount, repayments are mostly below USD 4000 with a few exceptions where it is higher than USD 4000\n",
    "\n",
    "3. Rating vs APR vs Term\n",
    "That avg APR for HR and E rated borrowers is almost equal.(lower ratings)\n",
    "Borrowers rated HR(lowest) are not granted any 12 month or 60 month loan, but they are granted 36 month loan.\n",
    "borrowers that are granted for 12 month period are mainly rated E and D.\n",
    "Borrowers who are rated the lowest have been charged the highest interest rates too(0.5 and above)\n",
    "\n",
    "### Were there any interesting or surprising interactions between features?\n",
    "\n",
    "1. Even with a higher debt levels, many borrowers completed their loans.Hence, we can not surely say if debt levels are higher, the loan would be defaulted or not repaid on time.\n",
    "\n",
    "2. A charge-off rate of 10% and above is relatively high and indicates a higher level of credit risk in the loan portfolio. It suggests that a significant portion of borrowers in the portfolio are experiencing financial difficulties or have defaulted on their loan obligations."
   ]
  },
  {
   "cell_type": "markdown",
   "metadata": {},
   "source": [
    "## Conclusions\n",
    "\n",
    "\n",
    "Overall, the findings suggest that interest rates are influenced by loan status, occupation, term, and rating, as these factors reflect the risk associated with loan repayment. Other interesting relationships were observed between occupation and income, rating and trades never delinquent, rating and loan amount, and employment status and loan status. These insights can help understand the factors affecting interest rates and loan outcomes in the dataset.\n",
    "\n",
    "The prosper loans dataset is mainly explored using univariate, bivariate and multivariate visualizations.The visaulizations are mostly self explanatory. However, Observations are also documented for each plot.\n"
   ]
  }
 ],
 "metadata": {
  "kernelspec": {
   "display_name": "Python 3 (ipykernel)",
   "language": "python",
   "name": "python3"
  },
  "language_info": {
   "codemirror_mode": {
    "name": "ipython",
    "version": 3
   },
   "file_extension": ".py",
   "mimetype": "text/x-python",
   "name": "python",
   "nbconvert_exporter": "python",
   "pygments_lexer": "ipython3",
   "version": "3.9.7"
  }
 },
 "nbformat": 4,
 "nbformat_minor": 2
}
